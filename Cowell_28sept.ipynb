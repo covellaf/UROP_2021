{
 "cells": [
  {
   "cell_type": "code",
   "execution_count": 1,
   "id": "bed05a7f",
   "metadata": {},
   "outputs": [],
   "source": [
    "# Core imports\n",
    "import heyoka as hk\n",
    "import pykep as pk\n",
    "import numpy as np\n",
    "from numpy import linalg as la\n",
    "import pandas as pd\n",
    "import math\n",
    "from numpy.lib.function_base import append\n",
    "# Sys imports\n",
    "import time\n",
    "# Plot imports\n",
    "from matplotlib import pyplot as plt\n",
    "from mpl_toolkits.mplot3d import Axes3D\n",
    "import matplotlib.ticker as mtick\n",
    "# Other imports\n",
    "from UROP_const import *\n",
    "from UROP_aux_func import *"
   ]
  },
  {
   "cell_type": "code",
   "execution_count": 2,
   "id": "a5f48efd",
   "metadata": {},
   "outputs": [],
   "source": [
    "#create heyoka variables\n",
    "X,Y,Z = hk.make_vars(\"X\",\"Y\",\"Z\")\n",
    "VX,VY,VZ = hk.make_vars(\"VX\",\"VY\",\"VZ\")"
   ]
  },
  {
   "cell_type": "code",
   "execution_count": 3,
   "id": "be1340a0",
   "metadata": {},
   "outputs": [],
   "source": [
    "# Step 1: Define Initial Conditions (dimensional)\n",
    "r0 = np.array([0.0, -5888.9727, -3400.0]) #km   (class 'numpy.ndarray')\n",
    "v0 = np.array([10.691338, 0.0, 0.0])      #km/s\n",
    "[a0, e0_norm, i0, RAAN0, omega0, theta0] = rv2elorb(r0, v0, GMe)"
   ]
  },
  {
   "cell_type": "code",
   "execution_count": 4,
   "id": "7aa6ccf9",
   "metadata": {},
   "outputs": [],
   "source": [
    "# Step 2: non-dimensionalise the ICs\n",
    "r0nd = r0 / a0 #[km/km] = [-] since the orbit is highly elliptical normalise with the initial semimajor axis\n",
    "               # otherwise use r0nd = r0/la.norm(r0)\n",
    "v0nd = v0 * math.sqrt(a0/GMe)    #[-]\n",
    "t0   = 0                         #s\n",
    "t0nd = t0 / math.sqrt((a0**3)/GMe) #[-]"
   ]
  },
  {
   "cell_type": "code",
   "execution_count": 5,
   "id": "65c3db15",
   "metadata": {},
   "outputs": [
    {
     "name": "stdout",
     "output_type": "stream",
     "text": [
      "[0.0, -0.04330113662025755, -0.02499992307807365, 6.2450078709673145, 0.0, 0.0]\n"
     ]
    }
   ],
   "source": [
    "# Non-dimensional ICs\n",
    "S0 = [*r0nd, *v0nd]\n",
    "# print(S0)"
   ]
  },
  {
   "cell_type": "code",
   "execution_count": 6,
   "id": "a2ad4a78",
   "metadata": {},
   "outputs": [],
   "source": [
    "# Non-dimensionalise the parameters\n",
    "GMend = 1 # GMe * a0d / (a0d * GMe) \n",
    "Rend  = Re / a0\n",
    "rlnd  = rl / (6*Re)\n",
    "omega_lnd = omega_l * math.sqrt((a0**3)/GMe)\n",
    "GMlnd = GMl / GMe"
   ]
  },
  {
   "cell_type": "code",
   "execution_count": 30,
   "id": "3bcf3f7d",
   "metadata": {},
   "outputs": [
    {
     "name": "stdout",
     "output_type": "stream",
     "text": [
      "the orbital period is 5.777065623908596 days for one orbit\n"
     ]
    }
   ],
   "source": [
    "# Final time\n",
    "# Test - based on 50 orbits\n",
    "T = 2*np.pi * np.sqrt(a0**3/GMe)  # orbital period\n",
    "print(f'the orbital period is {T/(24*3600)} days for one orbit')\n",
    "n_orb = 50\n",
    "tf = T * n_orb\n",
    "# tf = 288.12768941*24*3600 #actual\n",
    "tfnd  = tf / math.sqrt((a0**3)/GMe)          #[-]  (2*np.pi * 50:roughly 50 orbits)\n",
    "delta_t = 500                                # s (max time beween consecutive integration points)\n",
    "delta_tnd  = delta_t / math.sqrt((a0**3)/GMe)          #[-]\n",
    "N = math.floor((tfnd-t0nd)/delta_tnd - 1)"
   ]
  },
  {
   "cell_type": "code",
   "execution_count": 31,
   "id": "24457e8a",
   "metadata": {},
   "outputs": [],
   "source": [
    "#Earth's Keplerian terms\n",
    "magR2 = X**2 + Y**2 + Z**2\n",
    "r = (magR2)**(1/2)\n",
    "fKepX = -X/(magR2**(3./2))\n",
    "fKepY = -Y/(magR2**(3./2))\n",
    "fKepZ = -Z/(magR2**(3./2))\n",
    "\n",
    "#Earth's J2 terms\n",
    "fJ2X = (-1/(r**3)) * X + ( (3/2)*J2*Rend**2/r**4 ) * (X/r)*(5*(Z**2/r**2) -1)\n",
    "fJ2Y = (-1/(r**3)) * Y + ( (3/2)*J2*Rend**2/r**4 ) * (Y/r)*(5*(Z**2/r**2) -1)\n",
    "fJ2Z = (-1/(r**3)) * Z + ( (3/2)*J2*Rend**2/r**4 ) * (Z/r)*(5*(Z**2/r**2) -3)\n",
    "\n",
    "# Third body (moon)\n",
    "r3 = np.array([ rlnd * hk.sin(omega_lnd*hk.time),\n",
    "                rlnd * (- (math.sqrt(3)*hk.cos(omega_lnd*hk.time))/2) ,\n",
    "                rlnd * (- hk.cos(omega_lnd*hk.time)/2)])\n",
    "r3_norm  = (r3[0]**2 + r3[1]**2 + r3[2]**2)**(1/2)\n",
    "r3r      = r3 - np.array([X, Y, Z])\n",
    "r3r_norm = (r3r[0]**2 + r3r[1]**2 + r3r[2]**2)**(1/2)\n",
    "\n",
    "fLX = GMlnd * ( (r3[0] - X)/(r3r_norm**3) - r3[0]/(r3_norm**3) )\n",
    "fLY = GMlnd * ( (r3[1] - Y)/(r3r_norm**3) - r3[1]/(r3_norm**3) )\n",
    "fLZ = GMlnd * ( (r3[2] - Z)/(r3r_norm**3) - r3[2]/(r3_norm**3) )\n"
   ]
  },
  {
   "cell_type": "code",
   "execution_count": 59,
   "id": "72b08503",
   "metadata": {},
   "outputs": [],
   "source": [
    "#EOMs\n",
    "dXdt = VX\n",
    "dYdt = VY\n",
    "dZdt = VZ\n",
    "dVXdt = fKepX + fJ2X + fLX \n",
    "dVYdt = fKepY + fJ2Y + fLY \n",
    "dVZdt = fKepZ + fJ2Z + fLZ"
   ]
  },
  {
   "cell_type": "code",
   "execution_count": 60,
   "id": "317dc4e1",
   "metadata": {},
   "outputs": [
    {
     "name": "stdout",
     "output_type": "stream",
     "text": [
      "Compiling the Taylor integrator ... (this is done only once)\n",
      "Done, in\n",
      "--- 0.8131141662597656 seconds ---\n",
      "\n",
      "Heyoka Taylor integrator:\n",
      " Taylor order            : 20\n",
      "Dimension               : 6\n",
      "Time                    : 0.0000000000000000\n",
      "State                   : [0.0000000000000000, -0.043301136620257551, -0.024999923078073649, 6.2450078709673145, 0.0000000000000000, 0.0000000000000000]\n",
      "\n"
     ]
    }
   ],
   "source": [
    "ic = S0\n",
    "print('Compiling the Taylor integrator ... (this is done only once)')\n",
    "start_time = time.time()\n",
    "\n",
    "ta = hk.taylor_adaptive(sys = [(X,dXdt),(Y,dYdt),(Z,dZdt),(VX,dVXdt),(VY,dVYdt),(VZ,dVZdt)],\n",
    "                        state = ic,\n",
    "                        time = t0nd,\n",
    "                        tol = 1e-16,\n",
    "                        compact_mode = True)\n",
    "end_time = time.time()\n",
    "\n",
    "print('Done, in');\n",
    "print(\"--- %s seconds ---\" % (end_time - start_time))\n",
    "\n",
    "print(\"\\nHeyoka Taylor integrator:\\n\", ta)"
   ]
  },
  {
   "cell_type": "code",
   "execution_count": 61,
   "id": "d2dbeec0",
   "metadata": {},
   "outputs": [],
   "source": [
    "# How often to log the state\n",
    "# delta_tnd\n",
    "\n",
    "# Here we redefine the initial conditions since we may want to change them without recompiling the integrator\n",
    "ta.time = t0\n",
    "# Note the python syntax to assign directly the array elements. Here necessary\n",
    "# as heyoka does not allow to change the memory location of the state\n",
    "ta.state[:] =  S0"
   ]
  },
  {
   "cell_type": "code",
   "execution_count": 62,
   "id": "0d798a42",
   "metadata": {},
   "outputs": [
    {
     "name": "stdout",
     "output_type": "stream",
     "text": [
      "(49912,)\n"
     ]
    }
   ],
   "source": [
    "t_span = np.linspace(t0nd, tfnd, N, endpoint = True)\n",
    "print(np.shape(t_span))"
   ]
  },
  {
   "cell_type": "code",
   "execution_count": 63,
   "id": "2beab1fa",
   "metadata": {},
   "outputs": [
    {
     "name": "stdout",
     "output_type": "stream",
     "text": [
      "Done, in\n",
      "--- 0.8388020992279053 seconds ---\n",
      "the shape of the solution (cartesian form) is (49912, 6)\n"
     ]
    }
   ],
   "source": [
    "start_time = time.time()\n",
    "out = ta.propagate_grid(t_span)\n",
    "end_time = time.time()\n",
    "\n",
    "print('Done, in');\n",
    "print(\"--- %s seconds ---\" % (end_time - start_time))\n",
    "St = out[4] \n",
    "size = np.shape(St)\n",
    "print(f'the shape of the solution (cartesian form) is {size}')"
   ]
  },
  {
   "cell_type": "code",
   "execution_count": 64,
   "id": "482cbfd7",
   "metadata": {},
   "outputs": [
    {
     "name": "stdout",
     "output_type": "stream",
     "text": [
      "49912 6\n"
     ]
    }
   ],
   "source": [
    "rnd = St[:, :3]\n",
    "vnd = St[:, -3:]\n",
    "dim1, dim2 = np.shape(St)\n",
    "print(dim1, dim2)"
   ]
  },
  {
   "cell_type": "code",
   "execution_count": 65,
   "id": "0b141c85",
   "metadata": {},
   "outputs": [
    {
     "name": "stdout",
     "output_type": "stream",
     "text": [
      "[-4070.69901684 -4636.53135557 -2100.58061552] [ 6.83832946 -7.678014    4.33303357]\n"
     ]
    }
   ],
   "source": [
    "# Dimensionalise the output state\n",
    "r = np.empty((dim1, 3))\n",
    "v = np.empty((dim1, 3))\n",
    "for row in range(dim1):\n",
    "    r[row, :] = rnd[row, :] * a0\n",
    "    v[row, :] = vnd[row, :] / math.sqrt(a0/GMe)\n",
    "print(r[-1], v[-1])\n",
    "\n",
    "# Keplerian case (50 orbits)\n",
    "# 8715.77738648 -3380.09023585 -1951.49602271] [7.45001255 4.33401691 2.50224585] with odeint\n",
    "# [-2.07417848e-05 -5.88897270e+03 -3.40000000e+03] [ 1.06913380e+01 -1.44831750e-08 -8.36196636e-09] with hk\n",
    "\n",
    "# [-4071.03948857 -4636.12256077 -2100.84672647] [ 6.83773282 -7.67873422  4.33266524] final with j2. hk\n",
    "# [-4070.69901684 -4636.53135557 -2100.58061552] [ 6.83832946 -7.678014    4.33303357] final with j2+moon. hk"
   ]
  },
  {
   "cell_type": "code",
   "execution_count": 66,
   "id": "a94f1edd",
   "metadata": {},
   "outputs": [
    {
     "name": "stdout",
     "output_type": "stream",
     "text": [
      "[288.8532812]\n"
     ]
    }
   ],
   "source": [
    "t_days = np.empty((dim1, 1))\n",
    "for t, i in zip(TSPAN, range(dim1)):\n",
    "    t_days[i, 0] = ( t*math.sqrt((a0**3)/GMe) )/(24*3600)\n",
    "    \n",
    "print(t_days[-1]) # 288.8532812 (same as odeint)"
   ]
  },
  {
   "cell_type": "code",
   "execution_count": 55,
   "id": "732c9336",
   "metadata": {},
   "outputs": [],
   "source": [
    "def set_axes_equal(ax):\n",
    "    '''Make axes of 3D plot have equal scale so that spheres appear as spheres,\n",
    "    cubes as cubes, etc..  This is one possible solution to Matplotlib's\n",
    "    ax.set_aspect('equal') and ax.axis('equal') not working for 3D.\n",
    "\n",
    "    Input\n",
    "      ax: a matplotlib axis, e.g., as output from plt.gca().\n",
    "    '''\n",
    "\n",
    "    x_limits = ax.get_xlim3d()\n",
    "    y_limits = ax.get_ylim3d()\n",
    "    z_limits = ax.get_zlim3d()\n",
    "\n",
    "    x_range = abs(x_limits[1] - x_limits[0])\n",
    "    x_middle = np.mean(x_limits)\n",
    "    y_range = abs(y_limits[1] - y_limits[0])\n",
    "    y_middle = np.mean(y_limits)\n",
    "    z_range = abs(z_limits[1] - z_limits[0])\n",
    "    z_middle = np.mean(z_limits)\n",
    "\n",
    "    # The plot bounding box is a sphere in the sense of the infinity\n",
    "    # norm, hence I call half the max range the plot radius.\n",
    "    plot_radius = 0.5*max([x_range, y_range, z_range])\n",
    "\n",
    "    ax.set_xlim3d([x_middle - plot_radius, x_middle + plot_radius])\n",
    "    ax.set_ylim3d([y_middle - plot_radius, y_middle + plot_radius])\n",
    "    ax.set_zlim3d([z_middle - plot_radius, z_middle + plot_radius])"
   ]
  },
  {
   "cell_type": "code",
   "execution_count": 67,
   "id": "1376dbd5",
   "metadata": {},
   "outputs": [
    {
     "name": "stdout",
     "output_type": "stream",
     "text": [
      "             x            y            z\n",
      "0     0.000000 -5888.972700 -3400.000000\n",
      "1  4795.069140 -4112.820040 -2373.150949\n",
      "2  6619.614722   182.667588   109.355780\n",
      "3  4154.686892  4329.329737  2503.260255\n",
      "4 -1119.392025  5516.381728  3183.403485\n"
     ]
    },
    {
     "data": {
      "image/png": "[encoded data removed]",
      "text/plain": [
       "<Figure size 432x288 with 1 Axes>"
      ]
     },
     "metadata": {
      "needs_background": "light"
     },
     "output_type": "display_data"
    },
    {
     "data": {
      "image/png": "[encoded data removed]",
      "text/plain": [
       "<Figure size 432x288 with 3 Axes>"
      ]
     },
     "metadata": {
      "needs_background": "light"
     },
     "output_type": "display_data"
    }
   ],
   "source": [
    "df_pos = pd.DataFrame(r, columns=[\"x\", \"y\", \"z\"])\n",
    "print(df_pos.head())\n",
    "\n",
    "    \n",
    "ax = plt.axes(projection='3d')\n",
    "ax.plot3D(df_pos[\"x\"], df_pos[\"y\"], df_pos[\"y\"], color = 'k', label = 'orbit')\n",
    "ax.set_aspect('auto')\n",
    "plt.show()\n",
    "\n",
    "fig, (ax1, ax2, ax3) = plt.subplots(3, sharex=True)\n",
    "fig.suptitle(r'Evolution of components of position vector r (km)')\n",
    "ax1.plot(t_days, df_pos[\"x\"], 'tab:green')\n",
    "ax1.set(ylabel=r\"$x$ (km)\")\n",
    "ax2.plot(t_days, df_pos[\"y\"], 'tab:green')\n",
    "ax2.set(ylabel=r\"$y$ (km)\")\n",
    "ax3.plot(t_days, df_pos[\"z\"], 'tab:green')\n",
    "ax3.set(xlabel=r\"time (days)\", ylabel=r\"$z$ (km)\")\n",
    "# Add a grid to subplots\n",
    "ax1.grid()\n",
    "ax2.grid()\n",
    "ax3.grid()\n",
    "# Reformat the y axis notation\n",
    "ax1.yaxis.set_major_formatter(mtick.FormatStrFormatter('%.5e'))\n",
    "ax2.yaxis.set_major_formatter(mtick.FormatStrFormatter('%.5e'))\n",
    "ax3.yaxis.set_major_formatter(mtick.FormatStrFormatter('%.5e'))\n",
    "set_axes_equal(ax)\n",
    "plt.show()"
   ]
  },
  {
   "cell_type": "code",
   "execution_count": null,
   "id": "84d036b0",
   "metadata": {},
   "outputs": [],
   "source": []
  },
  {
   "cell_type": "code",
   "execution_count": null,
   "id": "ea64d143",
   "metadata": {},
   "outputs": [],
   "source": []
  }
 ],
 "metadata": {
  "kernelspec": {
   "display_name": "Python 3 (ipykernel)",
   "language": "python",
   "name": "python3"
  },
  "language_info": {
   "codemirror_mode": {
    "name": "ipython",
    "version": 3
   },
   "file_extension": ".py",
   "mimetype": "text/x-python",
   "name": "python",
   "nbconvert_exporter": "python",
   "pygments_lexer": "ipython3",
   "version": "3.9.5"
  }
 },
 "nbformat": 4,
 "nbformat_minor": 5
}
