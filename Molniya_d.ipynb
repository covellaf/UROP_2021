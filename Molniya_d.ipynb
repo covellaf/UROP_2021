{
 "cells": [
  {
   "cell_type": "code",
   "execution_count": 1,
   "id": "eb33d5e9",
   "metadata": {},
   "outputs": [],
   "source": [
    "# Core imports\n",
    "import heyoka as hk\n",
    "import pykep as pk\n",
    "import numpy as np\n",
    "from numpy import linalg as la\n",
    "import pandas as pd\n",
    "import math\n",
    "from numpy.lib.function_base import append\n",
    "from scipy.integrate import odeint\n",
    "# Sys imports\n",
    "import time\n",
    "# Plot imports\n",
    "from matplotlib import pyplot as plt\n",
    "from mpl_toolkits.mplot3d import Axes3D\n",
    "import matplotlib.ticker as mtick\n",
    "from UROP_aux_func import rv2elorb, dromo2rv"
   ]
  },
  {
   "cell_type": "code",
   "execution_count": 2,
   "id": "4afc56b5",
   "metadata": {},
   "outputs": [],
   "source": [
    "\"\"\"\n",
    "Constant parameters \n",
    "\"\"\"\n",
    "\n",
    "GMe = 398601   #[km^3/sec^2]\n",
    "Re  = 6371.22  #[km]\n",
    "J2 = 0.00108265         # [-] second zonal harmonic\n",
    "GMl = 4902.66 #[km^3/sec^2] for the Moon\n",
    "rl = 384400   #[km] radius of the lunar orbit\n",
    "omega_l = 2.665315780887e-6 #[1/s] lunar orbital angular velocity"
   ]
  },
  {
   "cell_type": "code",
   "execution_count": 3,
   "id": "f4e20b25",
   "metadata": {},
   "outputs": [],
   "source": [
    "# create heyoka variables\n",
    "tau, zeta1, zeta2, zeta3, eta1, eta2, eta3, eta4 = hk.make_vars(\"tau\", \"zeta1\", \"zeta2\", \"zeta3\",\n",
    "                                                                \"eta1\", \"eta2\", \"eta3\", \"eta4\")"
   ]
  },
  {
   "cell_type": "code",
   "execution_count": 4,
   "id": "6f6ec1d8",
   "metadata": {},
   "outputs": [],
   "source": [
    "# Step 1: Define Initial Conditions (dimensional)\n",
    "r0 = np.array([337.7834, -3109.3490, -6101.4423]) #km   (class 'numpy.ndarray')\n",
    "v0 = np.array([10.00457,   1.086844,    0])       #km/s\n",
    "[a0, e0_norm, i0, RAAN0, omega0, theta0] = rv2elorb(r0, v0, GMe)"
   ]
  },
  {
   "cell_type": "code",
   "execution_count": 5,
   "id": "02499df3",
   "metadata": {},
   "outputs": [],
   "source": [
    "# Step 2: non-dimensionalise \n",
    "r0nd = r0 / a0 #[km/km] = [-] since the orbit is highly elliptical normalise with the initial semimajor axis\n",
    "               # otherwise use r0nd = r0/la.norm(r0)\n",
    "v0nd = v0 * math.sqrt(a0/GMe)    #[-]\n",
    "t0   = 0                         #s\n",
    "t0nd = t0 / math.sqrt((a0**3)/GMe) #[-]\n",
    "# Non-dimensionalise the parameters\n",
    "GMend = 1 # GMe * a0d / (a0d * GMe) \n",
    "Rend  = Re / a0\n",
    "rlnd  = rl / a0\n",
    "omega_lnd = omega_l * math.sqrt((a0**3)/GMe)\n",
    "GMlnd = GMl / GMe"
   ]
  },
  {
   "cell_type": "code",
   "execution_count": 6,
   "id": "673ba819",
   "metadata": {},
   "outputs": [],
   "source": [
    "# Step 3: tranform the non-dimensional ICs (r0nd, v0nd) in DROMO elements \n",
    "h0 = np.cross(r0nd, v0nd)                      # 3-components vector\n",
    "e0 = - r0nd/la.norm(r0nd) - np.cross(h0, v0nd) # 3-components vector\n",
    "# sigma0 from page 7. and from page 14. (initial conditions)\n",
    "sigma0 = theta0 \n",
    "# Initial state (sigma; tau, zeta1, zeta2, zeta3, eta1, eta2, eta3, eta4)\n",
    "tau_0   = t0nd\n",
    "zeta1_0 = la.norm(e0)\n",
    "zeta2_0 = 0\n",
    "zeta3_0 = 1/la.norm(h0)\n",
    "eta1_0  = math.sin(i0/2)*math.cos((RAAN0-omega0)/2)\n",
    "eta2_0  = math.sin(i0/2)*math.sin((RAAN0-omega0)/2)\n",
    "eta3_0  = math.cos(i0/2)*math.sin((RAAN0+omega0)/2)\n",
    "eta4_0  = math.cos(i0/2)*math.cos((RAAN0+omega0)/2)\n",
    "S0 = [tau_0, zeta1_0, zeta2_0, zeta3_0, eta1_0, eta2_0, eta3_0, eta4_0]"
   ]
  },
  {
   "cell_type": "code",
   "execution_count": 7,
   "id": "e0481d83",
   "metadata": {},
   "outputs": [
    {
     "name": "stdout",
     "output_type": "stream",
     "text": [
      "6283.185307179586\n",
      "499.00426437843566\n",
      "500000\n"
     ]
    }
   ],
   "source": [
    "# Valore finale di sigma\n",
    "# Test - based on 100 orbits\n",
    "T = 2*np.pi * np.sqrt(a0**3/GMe)  # orbital period\n",
    "#print(f'the orbital period is {T/(24*3600)} days for one orbit')\n",
    "n_orb = 1000\n",
    "\n",
    "sigma_fin = 1000*2*np.pi     \n",
    "print(sigma_fin)\n",
    "fin_day =  T*n_orb/(24*3600) # days\n",
    "print(fin_day)\n",
    "# numero di passi per orbita\n",
    "m = 500\n",
    "N = n_orb * m \n",
    "\n",
    "# math.floor((sigma_fin - sigma0)/(2*np.pi)) * m\n",
    "#delta_sigma = 0.005   \n",
    "#N = math.floor((sigma_fin-sigma0)/delta_sigma - 1)\n",
    "print(N)\n",
    "sigma_span = np.linspace(sigma0, sigma_fin, N)  "
   ]
  },
  {
   "cell_type": "code",
   "execution_count": 78,
   "id": "a2b4b205",
   "metadata": {},
   "outputs": [],
   "source": [
    "# Auxiliary relationships\n",
    "s = 1 + zeta1 * hk.cos(hk.time) + zeta2 * hk.sin(hk.time)"
   ]
  },
  {
   "cell_type": "code",
   "execution_count": 79,
   "id": "8325395a",
   "metadata": {},
   "outputs": [],
   "source": [
    "# convert from Dromo to State (with heyoka variable)\n",
    "def dromo2rv_hk(Lc, sigma, tau, zeta1, zeta2, zeta3, eta1, eta2, eta3, eta4):\n",
    "    \"\"\"\n",
    "    If you want to have r,v non dimensional from dromo, let Lc be 1.\n",
    "    Dromo elements to cartesian representation of state vector (page 14)\n",
    "    Outputs: Dimensional components of position and velocity\n",
    "    \"\"\"\n",
    "    s = 1 + zeta1 * hk.cos(sigma) + zeta2 * hk.sin(sigma)\n",
    "    alpha = (Lc / (zeta3**2 * s))\n",
    "    omegacLc = (math.sqrt(GMe/Lc**3) * Lc)\n",
    "\n",
    "    p11 = 1-2*(eta2**2 + eta3**2)\n",
    "    p12 = 2*eta1*eta2 - 2*eta4*eta3\n",
    "    p21 = 2*eta1*eta2 + 2*eta4*eta3\n",
    "    p22 = 1-2*(eta1**2 + eta3**2)\n",
    "    p31 = 2*eta1*eta3 - 2*eta4*eta2\n",
    "    p32 = 2*eta3*eta2 + 2*eta4*eta1\n",
    "\n",
    "    x = alpha * ( p11*hk.cos(sigma) + p12*hk.sin(sigma) )\n",
    "    y = alpha * ( p21*hk.cos(sigma) + p22*hk.sin(sigma) )\n",
    "    z = alpha * ( p31*hk.cos(sigma) + p32*hk.sin(sigma) ) \n",
    "\n",
    "    V1 = -zeta3*(hk.sin(sigma)+zeta2)\n",
    "    V2 =  zeta3*(hk.cos(sigma)+zeta1)\n",
    "\n",
    "    xv = omegacLc * ( p11*V1 + p12*V2 )\n",
    "    yv = omegacLc * ( p21*V1 + p22*V2 )\n",
    "    zv = omegacLc * ( p31*V1 + p32*V2 ) \n",
    "    return x, y, z, xv, yv, zv "
   ]
  },
  {
   "cell_type": "code",
   "execution_count": 80,
   "id": "b75b09e7",
   "metadata": {},
   "outputs": [],
   "source": [
    "x,  y,  z, xv, yv, zv = dromo2rv_hk(a0, hk.time, tau, zeta1, zeta2, zeta3, eta1, eta2, eta3, eta4)\n",
    "x,  y,  z  = x/a0, y/a0, z/a0\n",
    "xv, yv, zv = xv*math.sqrt(a0/GMe), yv*math.sqrt(a0/GMe), zv*math.sqrt(a0/GMe)\n"
   ]
  },
  {
   "cell_type": "code",
   "execution_count": 81,
   "id": "cf0899ec",
   "metadata": {},
   "outputs": [],
   "source": [
    "# Create vectors (Non dimensional) \n",
    "r = np.array([x,  y,  z])  # r.shape  = (3, 1)\n",
    "v = np.array([xv, yv, zv]) \n",
    "r_norm = (r[0]**2 + r[1]**2 + r[2]**2)**(1/2)  \n"
   ]
  },
  {
   "cell_type": "code",
   "execution_count": 82,
   "id": "d6f7022f",
   "metadata": {},
   "outputs": [],
   "source": [
    "# Define the unit vectors of the (local) orbital frame\n",
    "io = r / r_norm\n",
    "hx, hy, hz = np.cross(r, v, axis=0)\n",
    "h_norm = (hx**2 + hy**2 + hz**2)**(1/2)   \n",
    "ko = np.cross(r, v, axis=0) / h_norm\n",
    "jo = np.cross(ko, io, axis=0)"
   ]
  },
  {
   "cell_type": "code",
   "execution_count": 83,
   "id": "69cf860e",
   "metadata": {},
   "outputs": [],
   "source": [
    "# J2\n",
    "#Earth's J2 terms\n",
    "fJ2X = ( (3/2)*J2*Rend**2/r_norm**4 ) * (x/r_norm)*(5*(z**2/r_norm**2) -1)\n",
    "fJ2Y = ( (3/2)*J2*Rend**2/r_norm**4 ) * (y/r_norm)*(5*(z**2/r_norm**2) -1)\n",
    "fJ2Z = ( (3/2)*J2*Rend**2/r_norm**4 ) * (z/r_norm)*(5*(z**2/r_norm**2) -3)\n",
    "\n",
    "# Third body (moon)\n",
    "r3 = np.array([ rlnd * hk.sin(omega_lnd*tau),\n",
    "                rlnd * (- (math.sqrt(3)*hk.cos(omega_lnd*tau))/2) ,\n",
    "                rlnd * (- hk.cos(omega_lnd*tau)/2)])\n",
    "r3_norm  = (r3[0]**2 + r3[1]**2 + r3[2]**2)**(1/2)\n",
    "r3r      = r3 - np.array([x, y, z])\n",
    "r3r_norm = (r3r[0]**2 + r3r[1]**2 + r3r[2]**2)**(1/2)\n",
    "\n",
    "fLX = GMlnd * ( (r3[0] - x)/(r3r_norm**3) - r3[0]/(r3_norm**3) )\n",
    "fLY = GMlnd * ( (r3[1] - y)/(r3r_norm**3) - r3[1]/(r3_norm**3) )\n",
    "fLZ = GMlnd * ( (r3[2] - z)/(r3r_norm**3) - r3[2]/(r3_norm**3) )\n",
    "\n",
    "# Superimpose the accelerations\n",
    "apx = fJ2X + fLX \n",
    "apy = fJ2Y + fLY \n",
    "apz = fJ2Z + fLZ\n",
    "acc = np.array([apx, apy, apz])\n",
    "\n",
    "# Project into the orbital frame (from inertial frame)\n",
    "api = np.dot(io, acc) # = apx*xx + apy*xy + apz*xz\n",
    "apj = np.dot(jo, acc) # = apx*yx + apy*yy + apz*yz\n",
    "apk = np.dot(ko, acc) # = apx*zx + apy*zy + apz*zz\n",
    "\n",
    "# Perturbing accelerations\n",
    "a_px = api/(zeta3**4 * s**3)\n",
    "a_py = apj/(zeta3**4 * s**3)\n",
    "a_pz = apk/(zeta3**4 * s**3)"
   ]
  },
  {
   "cell_type": "code",
   "execution_count": 84,
   "id": "7ef8a04b",
   "metadata": {},
   "outputs": [],
   "source": [
    "#EOMs\n",
    "\n",
    "# in heyoka is sigma equivalent to hk.time ?\n",
    "dtaudsigma    = 1/((zeta3**3) * (s**2)) \n",
    "dzeta1dsigma  = s * hk.sin(hk.time)   * a_px   + (zeta1 + (1+s)*hk.cos(hk.time)) * a_py \n",
    "dzeta2dsigma  = - s * hk.cos(hk.time) * a_px   + (zeta2 + (1+s)*hk.sin(hk.time)) * a_py\n",
    "dzeta3dsigma  = - zeta3 * a_py\n",
    "deta1dsigma   = 1/2 * a_pz * (eta4 * hk.cos(hk.time) - eta3 * hk.sin(hk.time))\n",
    "deta2dsigma   = 1/2 * a_pz * (eta3 * hk.cos(hk.time) + eta4 * hk.sin(hk.time))\n",
    "deta3dsigma   = 1/2 * a_pz * (-eta2* hk.cos(hk.time) + eta1 * hk.sin(hk.time))\n",
    "deta4dsigma   = 1/2 * a_pz * (-eta1* hk.cos(hk.time) - eta2 * hk.sin(hk.time))"
   ]
  },
  {
   "cell_type": "code",
   "execution_count": 85,
   "id": "b9e26a42",
   "metadata": {},
   "outputs": [],
   "source": [
    "sigma_event = []\n",
    "dromo_state_event = []\n",
    "sol_event = []\n",
    "\n",
    "# Callback for the terminal event.\n",
    "def t_cb(ta, mr, d_sgn):\n",
    "    # Append the event info\n",
    "    sigma_event.append(ta.time)\n",
    "    dromo_state_event.append(ta.state)\n",
    "    sol_event.append(ta)\n",
    "    # Do stop the integration.\n",
    "    return False # False; True\n",
    "\n",
    "t_ev = hk.t_event(\n",
    "        # The event equation.\n",
    "        ((tau * math.sqrt((a0**3)/GMe))/(24*3600)) - fin_day,\n",
    "        # The callback.\n",
    "        callback = t_cb)"
   ]
  },
  {
   "cell_type": "code",
   "execution_count": 86,
   "id": "b6b7b741",
   "metadata": {},
   "outputs": [
    {
     "name": "stdout",
     "output_type": "stream",
     "text": [
      "Compiling the Taylor integrator ... (this is done only once)\n",
      "\n",
      "Heyoka Taylor integrator:\n",
      " Taylor order            : 18\n",
      "Dimension               : 8\n",
      "Time                    : 1.2439116403584194e-08\n",
      "State                   : [0.0000000000000000, 0.74199839476503138, 0.0000000000000000, 1.4916430904506719, -0.34824561477942251, -0.38812607898939389, 0.56984675192683132, -0.63510457242383422]\n",
      "N of terminal events    : 1\n",
      "\n"
     ]
    }
   ],
   "source": [
    "print('Compiling the Taylor integrator ... (this is done only once)')\n",
    "start_time = time.time()\n",
    "\n",
    "ta = hk.taylor_adaptive(sys = [(tau,dtaudsigma),\n",
    "                               (zeta1,dzeta1dsigma),\n",
    "                               (zeta2,dzeta2dsigma),\n",
    "                               (zeta3,dzeta3dsigma),\n",
    "                               (eta1,deta1dsigma),\n",
    "                               (eta2,deta2dsigma),\n",
    "                               (eta3,deta3dsigma),\n",
    "                               (eta4,deta4dsigma)],\n",
    "                                state = S0,\n",
    "                                time = sigma0,\n",
    "                                tol = 1e-14,\n",
    "                                compact_mode = True,\n",
    "                                # The list of terminal events.\n",
    "                                t_events = [t_ev])\n",
    "\n",
    "#end_time = time.time()\n",
    "#print('Done, in');\n",
    "#print(\"--- %s seconds ---\" % (end_time - start_time))\n",
    "print(\"\\nHeyoka Taylor integrator:\\n\", ta)"
   ]
  },
  {
   "cell_type": "code",
   "execution_count": 87,
   "id": "3b4738b6",
   "metadata": {},
   "outputs": [],
   "source": [
    "# Here we redefine the initial conditions since we may want to change them without recompiling the integrator\n",
    "ta.time = t0\n",
    "# Note the python syntax to assign directly the array elements. Here necessary\n",
    "# as heyoka does not allow to change the memory location of the state\n",
    "ta.state[:] =  S0"
   ]
  },
  {
   "cell_type": "code",
   "execution_count": 88,
   "id": "fcdb8790",
   "metadata": {},
   "outputs": [
    {
     "name": "stdout",
     "output_type": "stream",
     "text": [
      "Done, in\n",
      "--- 3.471052646636963 seconds ---\n",
      "the shape of the solution (cartesian form) is (496206, 8)\n"
     ]
    }
   ],
   "source": [
    "#start_time = time.time()\n",
    "out = ta.propagate_grid(sigma_span)\n",
    "end_time = time.time()\n",
    "\n",
    "print('Done, in');\n",
    "print(\"--- %s seconds ---\" % (end_time - start_time))\n",
    "\n",
    "#print(out)\n",
    "sol = out[4] \n",
    "size1, size2 = np.shape(sol)\n",
    "#print(sol[-1])\n",
    "print(f'the shape of the solution (cartesian form) is {size1, size2}') "
   ]
  },
  {
   "cell_type": "code",
   "execution_count": 89,
   "id": "f89de460",
   "metadata": {},
   "outputs": [
    {
     "name": "stdout",
     "output_type": "stream",
     "text": [
      "sigma associated with event:  6235.560136198936 rad\n",
      "tau associated with event:    6283.185307179586 499.00426437843566\n",
      "while last tau of output is   6282.953877105224\n",
      "(18109.735389092944, 11783.298869861112, 40922.28797039093, -0.6306335493562197, 1.3538565175365516, -0.26837716277355395)\n",
      "norm r:  46275.720424981366\n",
      "norm v:  1.5174493221021272\n",
      "error r:  0.0\n",
      "error v:  0.0\n"
     ]
    }
   ],
   "source": [
    "df_dromo = pd.DataFrame(sol, columns=[\"tau\", \"z1\", \"z2\", \"z3\", \"h1\", \"h2\", \"h3\", \"h4\"])\n",
    "#print(df_dromo.tail())\n",
    "#type(sol_event[0])   # heyoka.core._taylor_adaptive_dbl\n",
    "\n",
    "print(\"sigma associated with event: \", sigma_event[0], \"rad\")\n",
    "print(\"tau associated with event:   \", dromo_state_event[0][0], dromo_state_event[0][0]*math.sqrt((a0**3)/GMe)/(24*3600))\n",
    "print(\"while last tau of output is  \", sol[-1][0])\n",
    "#dromo2rv(a0, sigma_event[0], *dromo_state_event[0])\n",
    "\n",
    "rv_event = dromo2rv(a0, sigma_event[0], *dromo_state_event[0])\n",
    "\n",
    "print(rv_event)\n",
    "print(\"norm r: \", (rv_event[0]**2+rv_event[1]**2+rv_event[2]**2)**0.5)\n",
    "print(\"norm v: \", (rv_event[3]**2+rv_event[4]**2+rv_event[5]**2)**0.5)\n",
    "\n",
    "\n",
    "r_a = 46275.720424981366\n",
    "v_a = 1.5174493221021272\n",
    "\n",
    "print(\"error r: \", np.abs(((rv_event[0]**2+rv_event[1]**2+rv_event[2]**2)**0.5)-r_a)*1000 )\n",
    "print(\"error v: \", np.abs(((rv_event[3]**2+rv_event[4]**2+rv_event[5]**2)**0.5)-v_a)*1000 )"
   ]
  },
  {
   "cell_type": "code",
   "execution_count": 362,
   "id": "4c583966",
   "metadata": {},
   "outputs": [],
   "source": [
    "state = np.empty((size1, 6))\n",
    "r_norm = np.empty((size1, 1))\n",
    "v_norm = np.empty((size1, 1))\n",
    "\n",
    "# confronta tempo richiesto da dromo per heyoka, con tempo di una sola conversione da dromo a rv\n",
    "for row in range(size1):\n",
    "    state[row, :] = dromo2rv(a0, sigma_span[row], *sol[row, :])\n",
    "    r_norm[row, 0] = math.sqrt(state[row, 0]**2 + state[row, 1]**2 + state[row, 2]**2 )\n",
    "    v_norm[row, 0] = math.sqrt(state[row, 3]**2 + state[row, 4]**2 + state[row, 5]**2 )"
   ]
  },
  {
   "cell_type": "code",
   "execution_count": 363,
   "id": "d0afc6e5",
   "metadata": {},
   "outputs": [
    {
     "name": "stdout",
     "output_type": "stream",
     "text": [
      "last day:  [50.27682199]\n",
      "(99000, 1)\n"
     ]
    }
   ],
   "source": [
    "#print(\"final state\", state[-1, :])\n",
    "\n",
    "tau_days = np.empty((size1, 1))\n",
    "for t, i in zip(df_dromo[\"tau\"], range(size1)):\n",
    "    tau_days[i, 0] = ( t*math.sqrt((a0**3)/GMe) )/(24*3600)\n",
    "    \n",
    "print(\"last day: \", tau_days[-1, :]) \n",
    "print(np.shape(tau_days)) #98 431 poi aiiungi l'event "
   ]
  },
  {
   "cell_type": "code",
   "execution_count": 356,
   "id": "4188ce3e",
   "metadata": {},
   "outputs": [
    {
     "name": "stdout",
     "output_type": "stream",
     "text": [
      "sigma associated with event:  624.7315971016088 rad\n",
      "tau associated with event:    49.90042643784357\n"
     ]
    },
    {
     "data": {
      "text/plain": [
       "(14739.174102904324,\n",
       " 15757.94708230248,\n",
       " 31551.285565525814,\n",
       " -1.0362193213928914,\n",
       " 1.02808010845871,\n",
       " 1.9496356150464975)"
      ]
     },
     "execution_count": 356,
     "metadata": {},
     "output_type": "execute_result"
    }
   ],
   "source": [
    "print(\"sigma associated with event: \", sigma_event[0], \"rad\")\n",
    "print(\"tau associated with event:   \", dromo_state_event[0][0]*math.sqrt((a0**3)/GMe)/(24*3600))\n",
    "dromo2rv(a0, sigma_event[0], *dromo_state_event[0])\n",
    "\n"
   ]
  },
  {
   "cell_type": "code",
   "execution_count": 220,
   "id": "39a390a8",
   "metadata": {},
   "outputs": [
    {
     "data": {
      "image/png": "[encoded data removed]",
      "text/plain": [
       "<Figure size 432x288 with 1 Axes>"
      ]
     },
     "metadata": {
      "needs_background": "light"
     },
     "output_type": "display_data"
    },
    {
     "data": {
      "image/png": "[encoded data removed]",
      "text/plain": [
       "<Figure size 432x288 with 1 Axes>"
      ]
     },
     "metadata": {
      "needs_background": "light"
     },
     "output_type": "display_data"
    }
   ],
   "source": [
    "plt.plot(tau_days[:, 0], r_norm[:, 0], 'r')\n",
    "plt.show()\n",
    "\n",
    "df_pos = pd.DataFrame(state, columns=[\"x\", \"y\", \"z\", \"xv\", \"yv\", \"zv\"])\n",
    "\n",
    "ax = plt.axes(projection='3d')\n",
    "ax.plot3D(df_pos[\"x\"], df_pos[\"y\"], df_pos[\"z\"], color = 'k', label = 'orbit')\n",
    "plt.show()"
   ]
  },
  {
   "cell_type": "code",
   "execution_count": 254,
   "id": "23828ac5",
   "metadata": {},
   "outputs": [],
   "source": [
    "# Save state\n",
    "np.savetxt('/Users/utente73/Documents/Uni Project/pos_molnyaD_14.txt', df_pos)"
   ]
  },
  {
   "cell_type": "code",
   "execution_count": 255,
   "id": "681a8329",
   "metadata": {},
   "outputs": [],
   "source": [
    "# Save r_norm\n",
    "np.savetxt('/Users/utente73/Documents/Uni Project/pos_molnyaD_14_r.txt', r_norm)"
   ]
  },
  {
   "cell_type": "code",
   "execution_count": 256,
   "id": "dc408f67",
   "metadata": {},
   "outputs": [],
   "source": [
    "# Save r_norm\n",
    "np.savetxt('/Users/utente73/Documents/Uni Project/pos_molnyaD_14_v.txt', v_norm)"
   ]
  },
  {
   "cell_type": "code",
   "execution_count": 257,
   "id": "5f9a5bbd",
   "metadata": {},
   "outputs": [],
   "source": [
    "# Save time\n",
    "np.savetxt('/Users/utente73/Documents/Uni Project/pos_molnyaD_14_t.txt', tau_days)"
   ]
  },
  {
   "cell_type": "code",
   "execution_count": 259,
   "id": "19c13c53",
   "metadata": {},
   "outputs": [
    {
     "data": {
      "text/plain": [
       "array([ 3.38525260e+02, -3.13632865e+03, -6.09790834e+03,  1.00491102e+01,\n",
       "       -1.09495668e-01,  3.48655281e-01])"
      ]
     },
     "execution_count": 259,
     "metadata": {},
     "output_type": "execute_result"
    }
   ],
   "source": [
    "state[-1]\n",
    "\n",
    " 3.38525260e+02, -3.13632865e+03, -6.09790834e+03,  1.00491102e+01,\n",
    "       -1.09495668e-01,  3.48655281e-01]"
   ]
  },
  {
   "cell_type": "code",
   "execution_count": null,
   "id": "404e143c",
   "metadata": {},
   "outputs": [],
   "source": []
  }
 ],
 "metadata": {
  "kernelspec": {
   "display_name": "Python 3 (ipykernel)",
   "language": "python",
   "name": "python3"
  },
  "language_info": {
   "codemirror_mode": {
    "name": "ipython",
    "version": 3
   },
   "file_extension": ".py",
   "mimetype": "text/x-python",
   "name": "python",
   "nbconvert_exporter": "python",
   "pygments_lexer": "ipython3",
   "version": "3.9.5"
  }
 },
 "nbformat": 4,
 "nbformat_minor": 5
}
