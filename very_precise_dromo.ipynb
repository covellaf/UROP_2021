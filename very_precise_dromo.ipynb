{
 "cells": [
  {
   "cell_type": "code",
   "execution_count": 3,
   "id": "5b4c5772",
   "metadata": {},
   "outputs": [],
   "source": [
    "# Core imports\n",
    "import heyoka as hk\n",
    "import pykep as pk\n",
    "import numpy as np\n",
    "from numpy import linalg as la\n",
    "import pandas as pd\n",
    "import math\n",
    "from numpy.lib.function_base import append\n",
    "from scipy.integrate import odeint\n",
    "# Sys imports\n",
    "import time\n",
    "# Plot imports\n",
    "from matplotlib import pyplot as plt\n",
    "from mpl_toolkits.mplot3d import Axes3D\n",
    "import matplotlib.ticker as mtick\n",
    "from UROP_aux_func import rv2elorb"
   ]
  },
  {
   "cell_type": "code",
   "execution_count": 4,
   "id": "b5a49d0f",
   "metadata": {},
   "outputs": [
    {
     "name": "stdout",
     "output_type": "stream",
     "text": [
      "136007.86020406417\n"
     ]
    }
   ],
   "source": [
    "# Step 1: Define Initial Conditions (dimensional)\n",
    "r0 = np.array([0.0, -5888.9727, -3400.0]) #km   (class 'numpy.ndarray')\n",
    "v0 = np.array([10.691338, 0.0, 0.0])      #km/s\n",
    "[a0, e0_norm, i0, RAAN0, omega0, theta0] = rv2elorb(r0, v0, GMed)\n",
    "print(a0)"
   ]
  },
  {
   "cell_type": "code",
   "execution_count": 6,
   "id": "3ecf7e50",
   "metadata": {},
   "outputs": [],
   "source": [
    "#constants\n",
    "GMed = 3.986004407799724e+5 # [km^3/sec^2]\n",
    "GMe = 1\n",
    "GMod = 1.32712440018e+11 #[km^3/sec^2]\n",
    "GMo = GMod / GMed\n",
    "GMmd = 4.9028e+3 #[km^3/sec^2]\n",
    "GMm = GMmd / GMed\n",
    "Red = 6378.1363 #[km]\n",
    "Re = Red / a0\n",
    "C20 = -4.84165371736e-4\n",
    "C22 = 2.43914352398e-6\n",
    "S22 = -1.40016683654e-6\n",
    "theta_g = (np.pi/180)*280.4606 #[rad]\n",
    "# Multiply by TU : np.sqrt((a0**3)/GMed)\n",
    "nu_e = (np.pi/180)*(4.178074622024230e-3) #[rad/sec]\n",
    "nu_o = (np.pi/180)*(1.1407410259335311e-5) #[rad/sec]\n",
    "nu_ma = (np.pi/180)*(1.512151961904581e-4) #[rad/sec]\n",
    "nu_mp = (np.pi/180)*(1.2893925235125941e-6) #[rad/sec]\n",
    "nu_ms = (np.pi/180)*(6.128913003523574e-7) #[rad/sec]\n",
    "\n",
    "nu_e = nu_e * np.sqrt((a0**3)/GMed)\n",
    "nu_o = nu_o * np.sqrt((a0**3)/GMed)\n",
    "nu_ma = nu_ma * np.sqrt((a0**3)/GMed)\n",
    "nu_mp = nu_mp * np.sqrt((a0**3)/GMed)\n",
    "nu_ms = nu_ms * np.sqrt((a0**3)/GMed)\n",
    "\n",
    "alpha_od = 1.49619e+8 #[km]\n",
    "alpha_o = alpha_od / a0\n",
    "\n",
    "epsilon = (np.pi/180)*23.4392911 #[rad]\n",
    "phi_o = (np.pi/180)*357.5256 #[rad]\n",
    "Omega_plus_w = (np.pi/180)*282.94 #[rad]"
   ]
  },
  {
   "cell_type": "code",
   "execution_count": 7,
   "id": "93cb7a54",
   "metadata": {},
   "outputs": [],
   "source": [
    "# create heyoka variables\n",
    "tau, zeta1, zeta2, zeta3, eta1, eta2, eta3, eta4 = hk.make_vars(\"tau\", \"zeta1\", \"zeta2\", \"zeta3\",\n",
    "                                                                \"eta1\", \"eta2\", \"eta3\", \"eta4\")"
   ]
  },
  {
   "cell_type": "code",
   "execution_count": 8,
   "id": "e65bd9cc",
   "metadata": {},
   "outputs": [],
   "source": [
    "# Step 2: non-dimensionalise \n",
    "r0nd = r0 / a0 #[km/km] = [-] since the orbit is highly elliptical normalise with the initial semimajor axis\n",
    "               # otherwise use r0nd = r0/la.norm(r0)\n",
    "v0nd = v0 * math.sqrt(a0/GMed)    #[-]\n",
    "t0   = 0                         #s\n",
    "t0nd = t0 / math.sqrt((a0**3)/GMed) #[-]\n"
   ]
  },
  {
   "cell_type": "code",
   "execution_count": 9,
   "id": "ca56f16c",
   "metadata": {},
   "outputs": [
    {
     "name": "stdout",
     "output_type": "stream",
     "text": [
      "[0.0, 0.9500028899051103, 0, 3.20265325797849, -0.18301270304063946, -0.18301270304063952, 0.6830127015845011, -0.683012701584501]\n"
     ]
    }
   ],
   "source": [
    "# Step 3: tranform the non-dimensional ICs (r0nd, v0nd) in DROMO elements \n",
    "h0 = np.cross(r0nd, v0nd)                      # 3-components vector\n",
    "e0 = - r0nd/la.norm(r0nd) - np.cross(h0, v0nd) # 3-components vector\n",
    "# sigma0 from page 7. and from page 14. (initial conditions)\n",
    "sigma0 = theta0 \n",
    "# Initial state (sigma; tau, zeta1, zeta2, zeta3, eta1, eta2, eta3, eta4)\n",
    "tau_0   = t0nd\n",
    "zeta1_0 = la.norm(e0)\n",
    "zeta2_0 = 0\n",
    "zeta3_0 = 1/la.norm(h0)\n",
    "eta1_0  = math.sin(i0/2)*math.cos((RAAN0-omega0)/2)\n",
    "eta2_0  = math.sin(i0/2)*math.sin((RAAN0-omega0)/2)\n",
    "eta3_0  = math.cos(i0/2)*math.sin((RAAN0+omega0)/2)\n",
    "eta4_0  = math.cos(i0/2)*math.cos((RAAN0+omega0)/2)\n",
    "S0 = [tau_0, zeta1_0, zeta2_0, zeta3_0, eta1_0, eta2_0, eta3_0, eta4_0]\n",
    "print(S0)"
   ]
  },
  {
   "cell_type": "code",
   "execution_count": 10,
   "id": "81ca6d0c",
   "metadata": {},
   "outputs": [],
   "source": [
    "# Auxiliary relationships\n",
    "s = 1 + zeta1 * hk.cos(hk.time) + zeta2 * hk.sin(hk.time)"
   ]
  },
  {
   "cell_type": "code",
   "execution_count": 11,
   "id": "7e3ccfb3",
   "metadata": {},
   "outputs": [],
   "source": [
    "# convert from Dromo to State (with heyoka variable)\n",
    "def dromo2rv_hk(Lc, sigma, tau, zeta1, zeta2, zeta3, eta1, eta2, eta3, eta4):\n",
    "    \"\"\"\n",
    "    If you want to have r,v non dimensional from dromo, let Lc be 1.\n",
    "    Dromo elements to cartesian representation of state vector (page 14)\n",
    "    Outputs: Dimensional components of position and velocity\n",
    "    \"\"\"\n",
    "    s = 1 + zeta1 * hk.cos(sigma) + zeta2 * hk.sin(sigma)\n",
    "    alpha = (Lc / (zeta3**2 * s))\n",
    "    omegacLc = (math.sqrt(GMe/Lc**3) * Lc)\n",
    "\n",
    "    p11 = 1-2*(eta2**2 + eta3**2)\n",
    "    p12 = 2*eta1*eta2 - 2*eta4*eta3\n",
    "    p21 = 2*eta1*eta2 + 2*eta4*eta3\n",
    "    p22 = 1-2*(eta1**2 + eta3**2)\n",
    "    p31 = 2*eta1*eta3 - 2*eta4*eta2\n",
    "    p32 = 2*eta3*eta2 + 2*eta4*eta1\n",
    "\n",
    "    x = alpha * ( p11*hk.cos(sigma) + p12*hk.sin(sigma) )\n",
    "    y = alpha * ( p21*hk.cos(sigma) + p22*hk.sin(sigma) )\n",
    "    z = alpha * ( p31*hk.cos(sigma) + p32*hk.sin(sigma) ) \n",
    "\n",
    "    V1 = -zeta3*(hk.sin(sigma)+zeta2)\n",
    "    V2 =  zeta3*(hk.cos(sigma)+zeta1)\n",
    "\n",
    "    xv = omegacLc * ( p11*V1 + p12*V2 )\n",
    "    yv = omegacLc * ( p21*V1 + p22*V2 )\n",
    "    zv = omegacLc * ( p31*V1 + p32*V2 ) \n",
    "    return x, y, z, xv, yv, zv \n",
    "\n",
    "# convert from Dromo to State (with numeric variable)\n",
    "def dromo2rv(Lc, sigma, tau, zeta1, zeta2, zeta3, eta1, eta2, eta3, eta4):\n",
    "    \"\"\"\n",
    "    If you want to have r,v non dimensional from dromo, let Lc be 1.\n",
    "    Dromo elements to cartesian representation of state vector (page 14)\n",
    "    Outputs: Dimensional components of position and velocity\n",
    "    \"\"\"\n",
    "    s = 1 + zeta1 * np.cos(sigma) + zeta2 * np.sin(sigma)\n",
    "    alpha = (Lc / (zeta3**2 * s))\n",
    "    omegacLc = (math.sqrt(GMe/Lc**3) * Lc)\n",
    "\n",
    "    p11 = 1-2*(eta2**2 + eta3**2)\n",
    "    p12 = 2*eta1*eta2 - 2*eta4*eta3\n",
    "    p21 = 2*eta1*eta2 + 2*eta4*eta3\n",
    "    p22 = 1-2*(eta1**2 + eta3**2)\n",
    "    p31 = 2*eta1*eta3 - 2*eta4*eta2\n",
    "    p32 = 2*eta3*eta2 + 2*eta4*eta1\n",
    "\n",
    "    x = alpha * ( p11*np.cos(sigma) + p12*np.sin(sigma) )\n",
    "    y = alpha * ( p21*np.cos(sigma) + p22*np.sin(sigma) )\n",
    "    z = alpha * ( p31*np.cos(sigma) + p32*np.sin(sigma) ) \n",
    "\n",
    "    V1 = -zeta3*(np.sin(sigma)+zeta2)\n",
    "    V2 =  zeta3*(np.cos(sigma)+zeta1)\n",
    "\n",
    "    xv = omegacLc * ( p11*V1 + p12*V2 )\n",
    "    yv = omegacLc * ( p21*V1 + p22*V2 )\n",
    "    zv = omegacLc * ( p31*V1 + p32*V2 ) \n",
    "    return x, y, z, xv, yv, zv "
   ]
  },
  {
   "cell_type": "code",
   "execution_count": 13,
   "id": "1b0c6b9e",
   "metadata": {},
   "outputs": [],
   "source": [
    "X,  Y,  Z, xv, yv, zv = dromo2rv_hk(a0, hk.time, tau, zeta1, zeta2, zeta3, eta1, eta2, eta3, eta4)\n",
    "X,  Y,  Z,  = X/a0, Y/a0, Z/a0\n",
    "xv, yv, zv = xv*math.sqrt(a0/GMed), yv*math.sqrt(a0/GMed), zv*math.sqrt(a0/GMed)"
   ]
  },
  {
   "cell_type": "code",
   "execution_count": 14,
   "id": "52eebea2",
   "metadata": {},
   "outputs": [],
   "source": [
    "############################# RHS (right hand side of the ODE) setup #############################\n",
    "\n",
    "#Sun's position\n",
    "lo = phi_o + nu_o*hk.time\n",
    "lambda_o = Omega_plus_w + lo + (np.pi/180)*( (6892/3600)*hk.sin(lo) + (72/3600)*hk.sin(2*lo) )\n",
    "ro = (149.619 - 2.499*hk.cos(lo) - 0.021*hk.cos(2*lo))*(10**6)\n",
    "\n",
    "Xo = ro*hk.cos(lambda_o)\n",
    "Yo = ro*hk.sin(lambda_o)*np.cos(epsilon)\n",
    "Zo = ro*hk.sin(lambda_o)*np.sin(epsilon)\n",
    "\n",
    "#Moon's position\n",
    "phi_m = nu_o*hk.time\n",
    "phi_ma = nu_ma*hk.time\n",
    "phi_mp = nu_mp*hk.time\n",
    "phi_ms = nu_ms*hk.time\n",
    "L0 = phi_mp + phi_ma + (np.pi/180)*218.31617\n",
    "lm = phi_ma + (np.pi/180)*134.96292\n",
    "llm = phi_m + (np.pi/180)*357.5256\n",
    "Fm = phi_mp + phi_ma + phi_ms + (np.pi/180)*93.27283\n",
    "Dm = phi_mp + phi_ma - phi_m  + (np.pi/180)*297.85027\n",
    "\n",
    "rm = 385000 - 20905*hk.cos(lm) - 3699*hk.cos(2*Dm - lm) - 2956*hk.cos(2*Dm) - \\\n",
    "     570*hk.cos(2*lm) + 246*hk.cos(2*lm - 2*Dm) - 205*hk.cos(llm - 2*Dm) - \\\n",
    "     171*hk.cos(lm + 2*Dm) - 152*hk.cos(lm + llm - 2*Dm)\n",
    "     \n",
    "lambda_m = L0 + (np.pi/180)*( (22640/3600)*hk.sin(lm) + (769/3600)*hk.sin(2*lm) - (4856/3600)*hk.sin(lm - 2*Dm) + \\\n",
    "     (2370/3600)*hk.sin(2*Dm) - (668/3600)*hk.sin(llm) - (412/3600)*hk.sin(2*Fm) - \\\n",
    "     (212/3600)*hk.sin(2*lm - 2*Dm) - (206/3600)*hk.sin(lm + llm - 2*Dm) + \\\n",
    "     (192/3600)*hk.sin(lm + 2*Dm) - (165/3600)*hk.sin(llm - 2*Dm) + \\\n",
    "     (148/3600)*hk.sin(lm - llm) - (125/3600)*hk.sin(Dm) - (110/3600)*hk.sin(lm + llm) - \\\n",
    "     (55/3600)*hk.sin(2*Fm - 2*Dm) )\n",
    "     \n",
    "βm = (np.pi/180)*( (18520/3600)*hk.sin(Fm + lambda_m - L0 + (np.pi/180)*((412/3600)*hk.sin(2*Fm) + (541/3600)*hk.sin(llm)) ) - \\\n",
    "     (526/3600)*hk.sin(Fm - 2*Dm) + (44/3600)*hk.sin(lm + Fm - 2*Dm) - (31/3600)*hk.sin(-lm + Fm -2*Dm) - \\\n",
    "     (25/3600)*hk.sin(-2*lm + Fm) - (23/3600)*hk.sin(llm + Fm - 2*Dm) + (21/3600)*hk.sin(-lm + Fm) + \\\n",
    "     (11/3600)*hk.sin(-llm + Fm - 2*Dm) )\n",
    "     \n",
    "Xm =  hk.cos(βm)*hk.cos(lambda_m)*rm\n",
    "Ym = -np.sin(epsilon)*hk.sin(βm)*rm + np.cos(epsilon)*hk.cos(βm)*hk.sin(lambda_m)*rm\n",
    "Zm =  np.cos(epsilon)*hk.sin(βm)*rm + hk.cos(βm)*np.sin(epsilon)*hk.sin(lambda_m)*rm\n",
    "\n",
    "magR2 = X**2 + Y**2 + Z**2\n",
    "\n",
    "#Earth's J2 terms\n",
    "J2term1 = GMe*(Re**2)*np.sqrt(5)*C20/(2*magR2**(1./2))\n",
    "J2term2 = 3/(magR2**2)\n",
    "J2term3 = 15*(Z**2)/(magR2**3)\n",
    "fJ2X = J2term1*X*(J2term2 - J2term3)\n",
    "fJ2Y = J2term1*Y*(J2term2 - J2term3)\n",
    "fJ2Z = J2term1*Z*(3*J2term2 - J2term3)\n",
    "\n",
    "#Earth's C22 and S22 terms\n",
    "x =  X*hk.cos(theta_g + nu_e*hk.time) + Y*hk.sin(theta_g + nu_e*hk.time)\n",
    "y = -X*hk.sin(theta_g + nu_e*hk.time) + Y*hk.cos(theta_g + nu_e*hk.time)\n",
    "z = Z\n",
    "magr2 = x**2 + y**2 + z**2\n",
    "\n",
    "C22term1 = 5*GMe*(Re**2)*np.sqrt(15)*C22/(2*magr2**(7./2))\n",
    "C22term2 = GMe*(Re**2)*np.sqrt(15)*C22/(magr2**(5./2))\n",
    "fC22x = C22term1*x*(y**2 - x**2) + C22term2*x\n",
    "fC22y = C22term1*y*(y**2 - x**2) - C22term2*y\n",
    "fC22z = C22term1*z*(y**2 - x**2)\n",
    "\n",
    "S22term1 = 5*GMe*(Re**2)*np.sqrt(15)*S22/(magr2**(7./2))\n",
    "S22term2 = GMe*(Re**2)*np.sqrt(15)*S22/(magr2**(5./2))\n",
    "fS22x = -S22term1*(x**2)*y + S22term2*y\n",
    "fS22y = -S22term1*x*(y**2) + S22term2*x\n",
    "fS22z = -S22term1*x*y*z\n",
    "\n",
    "fC22X = fC22x*hk.cos(theta_g + nu_e*hk.time) - fC22y*hk.sin(theta_g + nu_e*hk.time)\n",
    "fC22Y = fC22x*hk.sin(theta_g + nu_e*hk.time) + fC22y*hk.cos(theta_g + nu_e*hk.time)\n",
    "fC22Z = fC22z\n",
    "\n",
    "fS22X = fS22x*hk.cos(theta_g + nu_e*hk.time) - fS22y*hk.sin(theta_g + nu_e*hk.time)\n",
    "fS22Y = fS22x*hk.sin(theta_g + nu_e*hk.time) + fS22y*hk.cos(theta_g + nu_e*hk.time)\n",
    "fS22Z = fS22z\n",
    "\n",
    "#Sun's gravity\n",
    "magRo2 = Xo**2 + Yo**2 + Zo**2\n",
    "magRRo2 = (X - Xo)**2 + (Y - Yo)**2 + (Z - Zo)**2\n",
    "fSunX = -GMo*( (X - Xo)/(magRRo2**(3./2)) + Xo/(magRo2**(3./2)) )\n",
    "fSunY = -GMo*( (Y - Yo)/(magRRo2**(3./2)) + Yo/(magRo2**(3./2)) )\n",
    "fSunZ = -GMo*( (Z - Zo)/(magRRo2**(3./2)) + Zo/(magRo2**(3./2)) )\n",
    "\n",
    "#Moon's gravity \n",
    "magRm2 = Xm**2 + Ym**2 + Zm**2\n",
    "magRRm2 = (X - Xm)**2 + (Y - Ym)**2 + (Z - Zm)**2\n",
    "fMoonX = -GMm*( (X - Xm)/(magRRm2**(3./2)) + Xm/(magRm2**(3./2)) )\n",
    "fMoonY = -GMm*( (Y - Ym)/(magRRm2**(3./2)) + Ym/(magRm2**(3./2)) )\n",
    "fMoonZ = -GMm*( (Z - Zm)/(magRRm2**(3./2)) + Zm/(magRm2**(3./2)) )\n",
    "\n",
    "############################# end of RHS setup #############################"
   ]
  },
  {
   "cell_type": "code",
   "execution_count": 15,
   "id": "aac62f8b",
   "metadata": {},
   "outputs": [],
   "source": [
    "# Create vectors (Non dimensional) \n",
    "r = np.array([X,  Y,  Z])  # r.shape  = (3, 1)\n",
    "v = np.array([xv, yv, zv]) \n",
    "r_norm = (r[0]**2 + r[1]**2 + r[2]**2)**(1/2)  "
   ]
  },
  {
   "cell_type": "code",
   "execution_count": 16,
   "id": "016375e7",
   "metadata": {},
   "outputs": [],
   "source": [
    "# Define the unit vectors of the (local) orbital frame\n",
    "io = r / r_norm\n",
    "hx, hy, hz = np.cross(r, v, axis=0)\n",
    "h_norm = (hx**2 + hy**2 + hz**2)**(1/2)   \n",
    "ko = np.cross(r, v, axis=0) / h_norm\n",
    "jo = np.cross(ko, io, axis=0)"
   ]
  },
  {
   "cell_type": "code",
   "execution_count": 18,
   "id": "d929641a",
   "metadata": {},
   "outputs": [],
   "source": [
    "# Superimpose the accelerations\n",
    "apx = fJ2X + fC22X + fS22X + fSunX + fMoonX \n",
    "apy = fJ2Y + fC22Y + fS22Y + fSunY + fMoonY \n",
    "apz = fJ2Z + fC22Z + fS22Z + fSunZ + fMoonZ \n",
    "acc = np.array([apx, apy, apz])\n",
    "\n",
    "# Project into the orbital frame (from inertial frame)\n",
    "api = np.dot(io, acc) # = apx*xx + apy*xy + apz*xz\n",
    "apj = np.dot(jo, acc) # = apx*yx + apy*yy + apz*yz\n",
    "apk = np.dot(ko, acc) # = apx*zx + apy*zy + apz*zz\n",
    "\n",
    "# Perturbing accelerations\n",
    "a_px = api/(zeta3**4 * s**3)\n",
    "a_py = apj/(zeta3**4 * s**3)\n",
    "a_pz = apk/(zeta3**4 * s**3)"
   ]
  },
  {
   "cell_type": "code",
   "execution_count": 19,
   "id": "449fd027",
   "metadata": {},
   "outputs": [],
   "source": [
    "\n",
    "# EOMs\n",
    "dtaudsigma    = 1/((zeta3**3) * (s**2)) \n",
    "dzeta1dsigma  = s * hk.sin(hk.time)   * a_px   + (zeta1 + (1+s)*hk.cos(hk.time)) * a_py \n",
    "dzeta2dsigma  = - s * hk.cos(hk.time) * a_px   + (zeta2 + (1+s)*hk.sin(hk.time)) * a_py\n",
    "dzeta3dsigma  = - zeta3 * a_py\n",
    "deta1dsigma   = 1/2 * a_pz * (eta4 * hk.cos(hk.time) - eta3 * hk.sin(hk.time))\n",
    "deta2dsigma   = 1/2 * a_pz * (eta3 * hk.cos(hk.time) + eta4 * hk.sin(hk.time))\n",
    "deta3dsigma   = 1/2 * a_pz * (-eta2* hk.cos(hk.time) + eta1 * hk.sin(hk.time))\n",
    "deta4dsigma   = 1/2 * a_pz * (-eta1* hk.cos(hk.time) - eta2 * hk.sin(hk.time))\n",
    "                    "
   ]
  },
  {
   "cell_type": "code",
   "execution_count": 20,
   "id": "f6f07e93",
   "metadata": {},
   "outputs": [],
   "source": [
    "sigma_event = []\n",
    "dromo_state_event = []\n",
    "\n",
    "# Callback for the terminal event.\n",
    "def cb(ta, mr, d_sgn):\n",
    "    #print(\"SIGMA.      when event day is reached: {}\".format(ta.time))\n",
    "    #print(\"State DROMO when event day is reached: {}\".format(ta.state))  \n",
    "    # Add the event time and state to the vectors:\n",
    "    sigma_event.append(ta.time)\n",
    "    dromo_state_event.append(ta.state)\n",
    "    print(ta.state)\n",
    "\n",
    "    return False"
   ]
  },
  {
   "cell_type": "code",
   "execution_count": 21,
   "id": "9a27fe85",
   "metadata": {},
   "outputs": [
    {
     "name": "stdout",
     "output_type": "stream",
     "text": [
      "50000\n"
     ]
    }
   ],
   "source": [
    "# Valore finale di sigma\n",
    "sigma_fin = 55*2*np.pi     # rad  311.10986051\n",
    "fin_day =  288.1276894125 # days\n",
    "# numero di passi per orbita\n",
    "n_orb = 50\n",
    "m = 1000\n",
    "N = m*n_orb\n",
    "sigma_span = np.linspace(sigma0, sigma_fin, N)  \n",
    "print(N)"
   ]
  },
  {
   "cell_type": "code",
   "execution_count": 22,
   "id": "f90900df",
   "metadata": {},
   "outputs": [],
   "source": [
    "ev1 = hk.t_event(((tau)* math.sqrt((a0**3)/GMed)/(24*3600)) - fin_day, callback = cb)"
   ]
  },
  {
   "cell_type": "code",
   "execution_count": 23,
   "id": "60080ecf",
   "metadata": {},
   "outputs": [
    {
     "name": "stdout",
     "output_type": "stream",
     "text": [
      "Compiling the Taylor integrator ... (this is done only once)\n",
      "\n",
      "Heyoka Taylor integrator:\n",
      " Taylor order            : 19\n",
      "Dimension               : 8\n",
      "Time                    : 0.0000000000000000\n",
      "State                   : [0.0000000000000000, 0.95000288990511028, 0.0000000000000000, 3.2026532579784899, -0.18301270304063946, -0.18301270304063952, 0.68301270158450111, -0.68301270158450100]\n",
      "N of terminal events    : 1\n",
      "\n"
     ]
    }
   ],
   "source": [
    "print('Compiling the Taylor integrator ... (this is done only once)')\n",
    "start_time = time.time()\n",
    "\n",
    "ta = hk.taylor_adaptive(sys = [(tau,dtaudsigma),\n",
    "                               (zeta1,dzeta1dsigma),\n",
    "                               (zeta2,dzeta2dsigma),\n",
    "                               (zeta3,dzeta3dsigma),\n",
    "                               (eta1,deta1dsigma),\n",
    "                               (eta2,deta2dsigma),\n",
    "                               (eta3,deta3dsigma),\n",
    "                               (eta4,deta4dsigma)],\n",
    "                                state = S0,\n",
    "                                time = sigma0,\n",
    "                                tol = 1e-15,\n",
    "                                compact_mode = True,\n",
    "                                # The list of terminal events.\n",
    "                                t_events = [ev1])\n",
    "\n",
    "# https://bluescarni.github.io/heyoka.py/notebooks/Event%20detection.html\n",
    "#end_time = time.time()\n",
    "#print('Done, in');\n",
    "#print(\"--- %s seconds ---\" % (end_time - start_time))\n",
    "print(\"\\nHeyoka Taylor integrator:\\n\", ta)"
   ]
  },
  {
   "cell_type": "code",
   "execution_count": 24,
   "id": "3527c59e",
   "metadata": {},
   "outputs": [],
   "source": [
    "# Here we redefine the initial conditions since we may want to change them without recompiling the integrator\n",
    "ta.time = t0\n",
    "# Note the python syntax to assign directly the array elements. Here necessary\n",
    "# as heyoka does not allow to change the memory location of the state\n",
    "ta.state[:] =  S0"
   ]
  },
  {
   "cell_type": "code",
   "execution_count": 25,
   "id": "340b3882",
   "metadata": {},
   "outputs": [
    {
     "name": "stdout",
     "output_type": "stream",
     "text": [
      "[ 3.13344167e+02  9.47111017e-01  7.07280383e-02  3.20227596e+00\n",
      " -1.99836626e-01 -1.64631234e-01  6.87701298e-01 -6.78254233e-01]\n",
      "Done, in\n",
      "--- 7.602319002151489 seconds ---\n",
      "the shape of the solution (cartesian form) is (45886, 8)\n"
     ]
    }
   ],
   "source": [
    "#start_time = time.time()\n",
    "out = ta.propagate_grid(sigma_span)\n",
    "end_time = time.time()\n",
    "\n",
    "print('Done, in');\n",
    "print(\"--- %s seconds ---\" % (end_time - start_time))\n",
    "\n",
    "#print(out)\n",
    "sol = out[4] \n",
    "size1, size2 = np.shape(sol)\n",
    "#print(sol[-1])\n",
    "print(f'the shape of the solution (cartesian form) is {size1, size2}') \n"
   ]
  },
  {
   "cell_type": "code",
   "execution_count": 27,
   "id": "cca810f3",
   "metadata": {},
   "outputs": [
    {
     "name": "stdout",
     "output_type": "stream",
     "text": [
      "(19145.016975618517, 180343.87951514113, 104755.46149450363, -0.0004221842692871306, 0.001231985812168634, 0.0006827096384354219)\n",
      "norm r:  209437.70736544768\n",
      "norm v:  0.001470415264145113\n"
     ]
    }
   ],
   "source": [
    "df_dromo = pd.DataFrame(sol, columns=[\"tau\", \"z1\", \"z2\", \"z3\", \"h1\", \"h2\", \"h3\", \"h4\"])\n",
    "#print(df_dromo.tail(1))\n",
    "\n",
    "\n",
    "#print(sigma_event)\n",
    "#print(dromo_state_event)\n",
    "\n",
    "#print(sol[-1])\n",
    "\n",
    "rv_event = dromo2rv(a0, sigma_event[0], *dromo_state_event[0])\n",
    "print(rv_event)\n",
    "\n",
    "r_norma = (rv_event[0]**2+rv_event[1]**2+rv_event[2]**2)**0.5\n",
    "print(\"norm r: \", r_norma)\n",
    "#print(\"r error:\", (np.abs(r_norma-263418.3747296585))*1000)\n",
    "v_norma = (rv_event[3]**2+rv_event[4]**2+rv_event[5]**2)**0.5\n",
    "print(\"norm v: \", v_norma)\n",
    "#print(\"v error:\", (np.abs(v_norma-0.35241893529632706))*1000)\n"
   ]
  },
  {
   "cell_type": "code",
   "execution_count": null,
   "id": "2bf09ecc",
   "metadata": {},
   "outputs": [],
   "source": []
  }
 ],
 "metadata": {
  "kernelspec": {
   "display_name": "Python 3 (ipykernel)",
   "language": "python",
   "name": "python3"
  },
  "language_info": {
   "codemirror_mode": {
    "name": "ipython",
    "version": 3
   },
   "file_extension": ".py",
   "mimetype": "text/x-python",
   "name": "python",
   "nbconvert_exporter": "python",
   "pygments_lexer": "ipython3",
   "version": "3.9.5"
  }
 },
 "nbformat": 4,
 "nbformat_minor": 5
}
