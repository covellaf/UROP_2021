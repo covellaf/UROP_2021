{
 "cells": [
  {
   "cell_type": "code",
   "execution_count": 16,
   "id": "d1342504",
   "metadata": {},
   "outputs": [],
   "source": [
    "# this is a test\n",
    "# Core imports\n",
    "import numpy as np\n",
    "import heyoka as hk\n",
    "import pykep as pk\n",
    "\n",
    "# Sys imports\n",
    "import time\n",
    "\n",
    "# Plot imports\n",
    "from matplotlib import pyplot as plt\n",
    "from mpl_toolkits.mplot3d import Axes3D\n",
    "\n",
    "%matplotlib notebook"
   ]
  },
  {
   "cell_type": "code",
   "execution_count": 17,
   "id": "db08fa9f",
   "metadata": {},
   "outputs": [],
   "source": [
    "import math\n",
    "from numpy.lib.function_base import append\n",
    "from scipy.integrate import odeint\n",
    "from mpl_toolkits.mplot3d import Axes3D\n",
    "import pandas as pd\n",
    "from numpy import linalg as la \n",
    "\n",
    "import dromo_const as const\n",
    "from dromo_func import state2orb"
   ]
  },
  {
   "cell_type": "code",
   "execution_count": 22,
   "id": "74e82f80",
   "metadata": {},
   "outputs": [],
   "source": [
    "# create heyoka variables\n",
    "sigma, tau, zeta1, zeta2, zeta3, eta1, eta2, eta3, eta4 = hk.make_vars(\"sigma\",\n",
    "                                                                       \"tau\",\n",
    "                                                                       \"zeta1\",\n",
    "                                                                       \"zeta2\",\n",
    "                                                                       \"zeta3\",\n",
    "                                                                       \"eta1\",\n",
    "                                                                       \"eta2\",\n",
    "                                                                       \"eta3\",\n",
    "                                                                       \"eta4\")\n"
   ]
  },
  {
   "cell_type": "code",
   "execution_count": 23,
   "id": "a2a5a224",
   "metadata": {},
   "outputs": [],
   "source": [
    "# Initial Conditions (dimensional)\n",
    "# @t=t0*, (x0*, v0*) and (a0*, e0*, i0*, RAAN0*, omega0*, theta0*)\n",
    "r0d = np.array([0.0, -5888.9727, -3400.0]) #km   (class 'numpy.ndarray')\n",
    "v0d = np.array([10.691338, 0.0, 0.0])      #km/s\n",
    "# perigee height should be 6800 km (correct!, as the minimum altitude comes out to be 428 km)\n",
    "[a0d, e0d, i0d, RAAN0d, omega0d, theta0d] = state2orb(r0d, v0d, const.GMe)\n",
    "\n",
    "# from the conversion comes out that a0* = 136,000 km\n",
    "# and that the orbital and equatorial plane coincide, as i~=0 and RAAN is not defined\n",
    "\n",
    "# Non-dimensionalise the ICs\n",
    "r0 = r0d / a0d #[km/km] = [-] since the orbit is highly elliptical normalise with the initial semimajor axis\n",
    "               # otherwise use r0 = r0d/la.norm(r0d)\n",
    "v0 = v0d * math.sqrt(a0d/const.GMe)       #[-]\n",
    "t0d = 0                                   #s\n",
    "t0  = t0d / math.sqrt((a0d**3)/const.GMe) #[-]\n",
    "\n",
    "# Tranform the non-dimensional ICs (r0, v0) in DROMO elements: (sigma; tau, zeta1, zeta2, zeta3, eta1, eta2, eta3, eta4)\n",
    "h0 = np.cross(r0, v0)                    # 3-components vector\n",
    "e0 = - r0/la.norm(r0) - np.cross(h0, v0) # 3-components vector\n",
    "sigma_0 = 0\n",
    "tau_0   = t0\n",
    "zeta1_0 = la.norm(e0)\n",
    "zeta2_0 = 0\n",
    "zeta3_0 = 1/la.norm(h0)\n",
    "eta1_0  = math.sin(i0d/2)*math.cos((RAAN0d-omega0d)/2)\n",
    "eta2_0  = math.sin(i0d/2)*math.sin((RAAN0d-omega0d)/2)\n",
    "eta3_0  = math.cos(i0d/2)*math.sin((RAAN0d-omega0d)/2)\n",
    "eta4_0  = math.cos(i0d/2)*math.cos((RAAN0d-omega0d)/2)\n",
    "\n",
    "S0 = [tau_0, zeta1_0, zeta2_0, zeta3_0, eta1_0, eta2_0, eta3_0, eta4_0]"
   ]
  },
  {
   "cell_type": "code",
   "execution_count": 28,
   "id": "3cff1d70",
   "metadata": {},
   "outputs": [
    {
     "ename": "TypeError",
     "evalue": "must be real number, not heyoka.core.expression",
     "output_type": "error",
     "traceback": [
      "\u001b[0;31m---------------------------------------------------------------------------\u001b[0m",
      "\u001b[0;31mTypeError\u001b[0m                                 Traceback (most recent call last)",
      "\u001b[0;32m/var/folders/lz/6_h3ytrn3mg06_4hwwfrzhrm0000gn/T/ipykernel_16712/144819142.py\u001b[0m in \u001b[0;36m<module>\u001b[0;34m\u001b[0m\n\u001b[1;32m      1\u001b[0m \u001b[0;31m# Auxiliary relationships\u001b[0m\u001b[0;34m\u001b[0m\u001b[0;34m\u001b[0m\u001b[0;34m\u001b[0m\u001b[0m\n\u001b[1;32m      2\u001b[0m \u001b[0;31m# s = hk.make_vars(\"s\")\u001b[0m\u001b[0;34m\u001b[0m\u001b[0;34m\u001b[0m\u001b[0;34m\u001b[0m\u001b[0m\n\u001b[0;32m----> 3\u001b[0;31m \u001b[0ms\u001b[0m \u001b[0;34m=\u001b[0m \u001b[0;36m1\u001b[0m \u001b[0;34m+\u001b[0m \u001b[0mzeta1\u001b[0m \u001b[0;34m*\u001b[0m \u001b[0mmath\u001b[0m\u001b[0;34m.\u001b[0m\u001b[0mcos\u001b[0m\u001b[0;34m(\u001b[0m\u001b[0msigma\u001b[0m\u001b[0;34m)\u001b[0m \u001b[0;34m+\u001b[0m \u001b[0mzeta2\u001b[0m \u001b[0;34m*\u001b[0m \u001b[0mmath\u001b[0m\u001b[0;34m.\u001b[0m\u001b[0msin\u001b[0m\u001b[0;34m(\u001b[0m\u001b[0msigma\u001b[0m\u001b[0;34m)\u001b[0m\u001b[0;34m\u001b[0m\u001b[0;34m\u001b[0m\u001b[0m\n\u001b[0m",
      "\u001b[0;31mTypeError\u001b[0m: must be real number, not heyoka.core.expression"
     ]
    }
   ],
   "source": [
    "# Auxiliary relationships\n",
    "# s = hk.make_vars(\"s\")\n",
    "s = 1 + zeta1 * math.cos(sigma) + zeta2 * math.sin(sigma)"
   ]
  },
  {
   "cell_type": "code",
   "execution_count": 29,
   "id": "d0f2c58a",
   "metadata": {},
   "outputs": [
    {
     "ename": "TypeError",
     "evalue": "unsupported operand type(s) for ** or pow(): 'list' and 'int'",
     "output_type": "error",
     "traceback": [
      "\u001b[0;31m---------------------------------------------------------------------------\u001b[0m",
      "\u001b[0;31mTypeError\u001b[0m                                 Traceback (most recent call last)",
      "\u001b[0;32m/var/folders/lz/6_h3ytrn3mg06_4hwwfrzhrm0000gn/T/ipykernel_16712/1530774143.py\u001b[0m in \u001b[0;36m<module>\u001b[0;34m\u001b[0m\n\u001b[1;32m      1\u001b[0m \u001b[0;31m# EOMs\u001b[0m\u001b[0;34m\u001b[0m\u001b[0;34m\u001b[0m\u001b[0;34m\u001b[0m\u001b[0m\n\u001b[0;32m----> 2\u001b[0;31m \u001b[0mdtaudsigma\u001b[0m    \u001b[0;34m=\u001b[0m \u001b[0;36m1\u001b[0m\u001b[0;34m/\u001b[0m\u001b[0;34m(\u001b[0m\u001b[0mzeta3\u001b[0m\u001b[0;34m**\u001b[0m\u001b[0;36m3\u001b[0m \u001b[0;34m*\u001b[0m \u001b[0ms\u001b[0m\u001b[0;34m**\u001b[0m\u001b[0;36m2\u001b[0m\u001b[0;34m)\u001b[0m\u001b[0;34m\u001b[0m\u001b[0;34m\u001b[0m\u001b[0m\n\u001b[0m\u001b[1;32m      3\u001b[0m \u001b[0mdzeta1dsigma\u001b[0m  \u001b[0;34m=\u001b[0m \u001b[0ms\u001b[0m \u001b[0;34m*\u001b[0m \u001b[0mmath\u001b[0m\u001b[0;34m.\u001b[0m\u001b[0msin\u001b[0m\u001b[0;34m(\u001b[0m\u001b[0msigma\u001b[0m\u001b[0;34m)\u001b[0m \u001b[0;34m*\u001b[0m \u001b[0ma_px\u001b[0m   \u001b[0;34m+\u001b[0m \u001b[0;34m(\u001b[0m\u001b[0mzeta1\u001b[0m \u001b[0;34m+\u001b[0m \u001b[0;34m(\u001b[0m\u001b[0;36m1\u001b[0m\u001b[0;34m+\u001b[0m\u001b[0ms\u001b[0m\u001b[0;34m)\u001b[0m\u001b[0;34m*\u001b[0m\u001b[0mmath\u001b[0m\u001b[0;34m.\u001b[0m\u001b[0mcos\u001b[0m\u001b[0;34m(\u001b[0m\u001b[0msigma\u001b[0m\u001b[0;34m)\u001b[0m\u001b[0;34m)\u001b[0m \u001b[0;34m*\u001b[0m \u001b[0ma_py\u001b[0m\u001b[0;34m\u001b[0m\u001b[0;34m\u001b[0m\u001b[0m\n\u001b[1;32m      4\u001b[0m \u001b[0mdzeta2dsigma\u001b[0m  \u001b[0;34m=\u001b[0m \u001b[0;34m-\u001b[0m \u001b[0ms\u001b[0m \u001b[0;34m*\u001b[0m \u001b[0mmath\u001b[0m\u001b[0;34m.\u001b[0m\u001b[0mcos\u001b[0m\u001b[0;34m(\u001b[0m\u001b[0msigma\u001b[0m\u001b[0;34m)\u001b[0m \u001b[0;34m*\u001b[0m \u001b[0ma_px\u001b[0m \u001b[0;34m+\u001b[0m \u001b[0;34m(\u001b[0m\u001b[0mzeta2\u001b[0m \u001b[0;34m+\u001b[0m \u001b[0;34m(\u001b[0m\u001b[0;36m1\u001b[0m\u001b[0;34m+\u001b[0m\u001b[0ms\u001b[0m\u001b[0;34m)\u001b[0m\u001b[0;34m*\u001b[0m\u001b[0mmath\u001b[0m\u001b[0;34m.\u001b[0m\u001b[0msin\u001b[0m\u001b[0;34m(\u001b[0m\u001b[0msigma\u001b[0m\u001b[0;34m)\u001b[0m\u001b[0;34m)\u001b[0m \u001b[0;34m*\u001b[0m \u001b[0ma_py\u001b[0m\u001b[0;34m\u001b[0m\u001b[0;34m\u001b[0m\u001b[0m\n\u001b[1;32m      5\u001b[0m \u001b[0mdzeta3dsigma\u001b[0m  \u001b[0;34m=\u001b[0m \u001b[0mzeta3\u001b[0m \u001b[0;34m*\u001b[0m \u001b[0ma_pz\u001b[0m\u001b[0;34m\u001b[0m\u001b[0;34m\u001b[0m\u001b[0m\n",
      "\u001b[0;31mTypeError\u001b[0m: unsupported operand type(s) for ** or pow(): 'list' and 'int'"
     ]
    }
   ],
   "source": [
    "# EOMs\n",
    "dtaudsigma    = 1/(zeta3**3 * s**2)\n",
    "dzeta1dsigma  = s * math.sin(sigma) * a_px   + (zeta1 + (1+s)*math.cos(sigma)) * a_py\n",
    "dzeta2dsigma  = - s * math.cos(sigma) * a_px + (zeta2 + (1+s)*math.sin(sigma)) * a_py\n",
    "dzeta3dsigma  = zeta3 * a_pz\n",
    "deta1dsigma   = 1/2 * a_pz * (eta4 * math.cos(sigma) - eta3 * math.sin(sigma))\n",
    "deta2dsigma   = 1/2 * a_pz * (eta3 * math.cos(sigma) + eta4 * math.sin(sigma))\n",
    "deta3dsigma   = 1/2 * a_pz * (-eta2* math.cos(sigma) + eta1 * math.sin(sigma))\n",
    "deta4dsigma   = 1/2 * a_pz * (-eta1* math.cos(sigma) - eta2 * math.sin(sigma))"
   ]
  },
  {
   "cell_type": "code",
   "execution_count": 9,
   "id": "3ebed3b8",
   "metadata": {},
   "outputs": [],
   "source": [
    "# Define time\n",
    "\n",
    "# tf = 288.12768941*24*3600            # s\n",
    "tf = 2*np.pi * 50                      # roughly 50 orbits\n",
    "delta_t = 1\n",
    "n_steps = math.floor((tf-t0)/delta_t - 1)\n",
    "# duration of integration in seconds\n",
    "tspan = np.linspace(0, tf, n_steps)\n"
   ]
  },
  {
   "cell_type": "code",
   "execution_count": 14,
   "id": "c9737135",
   "metadata": {},
   "outputs": [
    {
     "name": "stdout",
     "output_type": "stream",
     "text": [
      "Compiling the Taylor integrator ... (this is done only once)\n"
     ]
    },
    {
     "ename": "NameError",
     "evalue": "name 'dtaudsigma' is not defined",
     "output_type": "error",
     "traceback": [
      "\u001b[0;31m---------------------------------------------------------------------------\u001b[0m",
      "\u001b[0;31mNameError\u001b[0m                                 Traceback (most recent call last)",
      "\u001b[0;32m/var/folders/lz/6_h3ytrn3mg06_4hwwfrzhrm0000gn/T/ipykernel_16712/2247788640.py\u001b[0m in \u001b[0;36m<module>\u001b[0;34m\u001b[0m\n\u001b[1;32m      2\u001b[0m \u001b[0mstart_time\u001b[0m \u001b[0;34m=\u001b[0m \u001b[0mtime\u001b[0m\u001b[0;34m.\u001b[0m\u001b[0mtime\u001b[0m\u001b[0;34m(\u001b[0m\u001b[0;34m)\u001b[0m\u001b[0;34m\u001b[0m\u001b[0;34m\u001b[0m\u001b[0m\n\u001b[1;32m      3\u001b[0m \u001b[0;34m\u001b[0m\u001b[0m\n\u001b[0;32m----> 4\u001b[0;31m ta = hk.taylor_adaptive(sys = [(tau,dtaudsigma),(zeta1,dzeta1dsigma),\n\u001b[0m\u001b[1;32m      5\u001b[0m                                \u001b[0;34m(\u001b[0m\u001b[0mzeta2\u001b[0m\u001b[0;34m,\u001b[0m\u001b[0mdzeta2dsigma\u001b[0m\u001b[0;34m)\u001b[0m\u001b[0;34m,\u001b[0m\u001b[0;34m(\u001b[0m\u001b[0mzeta3\u001b[0m\u001b[0;34m,\u001b[0m\u001b[0mdzeta3dsigma\u001b[0m\u001b[0;34m)\u001b[0m\u001b[0;34m,\u001b[0m\u001b[0;34m\u001b[0m\u001b[0;34m\u001b[0m\u001b[0m\n\u001b[1;32m      6\u001b[0m                                \u001b[0;34m(\u001b[0m\u001b[0meta1\u001b[0m\u001b[0;34m,\u001b[0m\u001b[0mdeta1dsigma\u001b[0m\u001b[0;34m)\u001b[0m\u001b[0;34m,\u001b[0m\u001b[0;34m(\u001b[0m\u001b[0meta2\u001b[0m\u001b[0;34m,\u001b[0m\u001b[0mdeta2dsigma\u001b[0m\u001b[0;34m)\u001b[0m\u001b[0;34m,\u001b[0m\u001b[0;34m\u001b[0m\u001b[0;34m\u001b[0m\u001b[0m\n",
      "\u001b[0;31mNameError\u001b[0m: name 'dtaudsigma' is not defined"
     ]
    }
   ],
   "source": [
    "print('Compiling the Taylor integrator ... (this is done only once)')\n",
    "start_time = time.time()\n",
    "\n",
    "ta = hk.taylor_adaptive(sys = [(tau,dtaudsigma),(zeta1,dzeta1dsigma),\n",
    "                               (zeta2,dzeta2dsigma),(zeta3,dzeta3dsigma),\n",
    "                               (eta1,deta1dsigma),(eta2,deta2dsigma),\n",
    "                               (eta3,deta3dsigma),(eta4,deta4dsigma)],\n",
    "                        state = S0,\n",
    "                        time = sigma_0,\n",
    "                        tol = 1e-16,\n",
    "                        compact_mode = True)\n",
    "end_time = time.time()\n",
    "\n",
    "print('Done, in');\n",
    "print(\"--- %s seconds ---\" % (end_time - start_time))\n",
    "\n",
    "print(\"\\nHeyoka Taylor integrator:\\n\", ta)"
   ]
  },
  {
   "cell_type": "code",
   "execution_count": null,
   "id": "60528142",
   "metadata": {},
   "outputs": [],
   "source": []
  }
 ],
 "metadata": {
  "kernelspec": {
   "display_name": "Python 3 (ipykernel)",
   "language": "python",
   "name": "python3"
  },
  "language_info": {
   "codemirror_mode": {
    "name": "ipython",
    "version": 3
   },
   "file_extension": ".py",
   "mimetype": "text/x-python",
   "name": "python",
   "nbconvert_exporter": "python",
   "pygments_lexer": "ipython3",
   "version": "3.9.5"
  }
 },
 "nbformat": 4,
 "nbformat_minor": 5
}
