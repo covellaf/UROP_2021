{
 "cells": [
  {
   "cell_type": "code",
   "execution_count": 1,
   "id": "c703a6f5",
   "metadata": {},
   "outputs": [],
   "source": [
    "# Core imports\n",
    "import heyoka as hk\n",
    "import pykep as pk\n",
    "import numpy as np\n",
    "from numpy import linalg as la\n",
    "import pandas as pd\n",
    "import math\n",
    "from numpy.lib.function_base import append\n",
    "from scipy.integrate import odeint\n",
    "# Sys imports\n",
    "import time\n",
    "# Plot imports\n",
    "from matplotlib import pyplot as plt\n",
    "from mpl_toolkits.mplot3d import Axes3D\n",
    "import matplotlib.ticker as mtick\n",
    "from UROP_aux_func import rv2elorb"
   ]
  },
  {
   "cell_type": "code",
   "execution_count": 2,
   "id": "d206c176",
   "metadata": {},
   "outputs": [],
   "source": [
    "\"\"\"\n",
    "Constant parameters \n",
    "\"\"\"\n",
    "\n",
    "GMe = 398601   #[km^3/sec^2]\n",
    "Re  = 6371.22  #[km]\n",
    "J2 = 0.00108265         # [-] second zonal harmonic\n",
    "GMl = 4902.66 #[km^3/sec^2] for the Moon\n",
    "rl = 384400   #[km] radius of the lunar orbit\n",
    "omega_l = 2.665315780887e-6 #[1/s] lunar orbital angular velocity"
   ]
  },
  {
   "cell_type": "code",
   "execution_count": 3,
   "id": "344cd428",
   "metadata": {},
   "outputs": [],
   "source": [
    "# create heyoka variables\n",
    "tau, zeta1, zeta2, zeta3, eta1, eta2, eta3, eta4 = hk.make_vars(\"tau\", \"zeta1\", \"zeta2\", \"zeta3\",\n",
    "                                                                \"eta1\", \"eta2\", \"eta3\", \"eta4\")"
   ]
  },
  {
   "cell_type": "code",
   "execution_count": 4,
   "id": "5eca7d0f",
   "metadata": {},
   "outputs": [],
   "source": [
    "# Step 1: Define Initial Conditions (dimensional)\n",
    "r0 = np.array([0.0, -5888.9727, -3400.0]) #km   (class 'numpy.ndarray')\n",
    "v0 = np.array([10.691338, 0.0, 0.0])      #km/s\n",
    "[a0, e0_norm, i0, RAAN0, omega0, theta0] = rv2elorb(r0, v0, GMe)"
   ]
  },
  {
   "cell_type": "code",
   "execution_count": 5,
   "id": "7b86d984",
   "metadata": {},
   "outputs": [],
   "source": [
    "# Step 2: non-dimensionalise \n",
    "r0nd = r0 / a0 #[km/km] = [-] since the orbit is highly elliptical normalise with the initial semimajor axis\n",
    "               # otherwise use r0nd = r0/la.norm(r0)\n",
    "v0nd = v0 * math.sqrt(a0/GMe)    #[-]\n",
    "t0   = 0                         #s\n",
    "t0nd = t0 / math.sqrt((a0**3)/GMe) #[-]\n",
    "# Non-dimensionalise the parameters\n",
    "GMend = 1 # GMe * a0d / (a0d * GMe) \n",
    "Rend  = Re / a0\n",
    "rlnd  = rl / a0\n",
    "omega_lnd = omega_l * math.sqrt((a0**3)/GMe)\n",
    "GMlnd = GMl / GMe"
   ]
  },
  {
   "cell_type": "code",
   "execution_count": 6,
   "id": "6a1f3b3e",
   "metadata": {},
   "outputs": [],
   "source": [
    "# Step 3: tranform the non-dimensional ICs (r0nd, v0nd) in DROMO elements \n",
    "h0 = np.cross(r0nd, v0nd)                      # 3-components vector\n",
    "e0 = - r0nd/la.norm(r0nd) - np.cross(h0, v0nd) # 3-components vector\n",
    "# sigma0 from page 7. and from page 14. (initial conditions)\n",
    "sigma0 = theta0 "
   ]
  },
  {
   "cell_type": "code",
   "execution_count": 7,
   "id": "c656b310",
   "metadata": {},
   "outputs": [
    {
     "name": "stdout",
     "output_type": "stream",
     "text": [
      "[0.0, 0.9500001541350794, 0, 3.2025678858150046, -0.18301270304063946, -0.18301270304063952, 0.6830127015845011, -0.683012701584501]\n"
     ]
    }
   ],
   "source": [
    "# Initial state (sigma; tau, zeta1, zeta2, zeta3, eta1, eta2, eta3, eta4)\n",
    "tau_0   = t0nd\n",
    "zeta1_0 = la.norm(e0)\n",
    "zeta2_0 = 0\n",
    "zeta3_0 = 1/la.norm(h0)\n",
    "eta1_0  = math.sin(i0/2)*math.cos((RAAN0-omega0)/2)\n",
    "eta2_0  = math.sin(i0/2)*math.sin((RAAN0-omega0)/2)\n",
    "eta3_0  = math.cos(i0/2)*math.sin((RAAN0+omega0)/2)\n",
    "eta4_0  = math.cos(i0/2)*math.cos((RAAN0+omega0)/2)\n",
    "S0 = [tau_0, zeta1_0, zeta2_0, zeta3_0, eta1_0, eta2_0, eta3_0, eta4_0]\n",
    "print(S0)"
   ]
  },
  {
   "cell_type": "code",
   "execution_count": 8,
   "id": "a40ba950",
   "metadata": {},
   "outputs": [
    {
     "name": "stdout",
     "output_type": "stream",
     "text": [
      "(25000,)\n"
     ]
    }
   ],
   "source": [
    "# Valore finale di sigma\n",
    "sigma_fin = 51*2*np.pi     # rad  311.10986051\n",
    "fin_day =  288.1276894125 # days\n",
    "another_day = 15\n",
    "# numero di passi per orbita\n",
    "n_orb = 50\n",
    "m = 500\n",
    "N = m*n_orb\n",
    "\n",
    "# N1 = math.floor((sigma_fin - sigma0)/(2*np.pi)) * m    #print(N, N1)\n",
    "sigma_span = np.linspace(sigma0, sigma_fin, N)  \n",
    "\n",
    "t0   = 0                           #s\n",
    "t0nd = t0 / math.sqrt((a0**3)/GMe) #[-]\n",
    "tf   = 288.12768941*24*3600        #s\n",
    "tfnd = tf / math.sqrt((a0**3)/GMe) #[-]  (2*np.pi * 50:roughly 50 orbits)\n",
    "t_span = np.linspace(t0nd, tfnd, N, endpoint = True)\n",
    "print(np.shape(t_span))"
   ]
  },
  {
   "cell_type": "code",
   "execution_count": 9,
   "id": "7ae549be",
   "metadata": {},
   "outputs": [],
   "source": [
    "# Auxiliary relationships\n",
    "s = 1 + zeta1 * hk.cos(hk.time) + zeta2 * hk.sin(hk.time)"
   ]
  },
  {
   "cell_type": "code",
   "execution_count": 10,
   "id": "18ed0d97",
   "metadata": {},
   "outputs": [],
   "source": [
    "# convert from Dromo to State (with heyoka variable)\n",
    "def dromo2rv_hk(Lc, sigma, tau, zeta1, zeta2, zeta3, eta1, eta2, eta3, eta4):\n",
    "    \"\"\"\n",
    "    If you want to have r,v non dimensional from dromo, let Lc be 1.\n",
    "    Dromo elements to cartesian representation of state vector (page 14)\n",
    "    Outputs: Dimensional components of position and velocity\n",
    "    \"\"\"\n",
    "    s = 1 + zeta1 * hk.cos(sigma) + zeta2 * hk.sin(sigma)\n",
    "    alpha = (Lc / (zeta3**2 * s))\n",
    "    omegacLc = (math.sqrt(GMe/Lc**3) * Lc)\n",
    "\n",
    "    p11 = 1-2*(eta2**2 + eta3**2)\n",
    "    p12 = 2*eta1*eta2 - 2*eta4*eta3\n",
    "    p21 = 2*eta1*eta2 + 2*eta4*eta3\n",
    "    p22 = 1-2*(eta1**2 + eta3**2)\n",
    "    p31 = 2*eta1*eta3 - 2*eta4*eta2\n",
    "    p32 = 2*eta3*eta2 + 2*eta4*eta1\n",
    "\n",
    "    x = alpha * ( p11*hk.cos(sigma) + p12*hk.sin(sigma) )\n",
    "    y = alpha * ( p21*hk.cos(sigma) + p22*hk.sin(sigma) )\n",
    "    z = alpha * ( p31*hk.cos(sigma) + p32*hk.sin(sigma) ) \n",
    "\n",
    "    V1 = -zeta3*(hk.sin(sigma)+zeta2)\n",
    "    V2 =  zeta3*(hk.cos(sigma)+zeta1)\n",
    "\n",
    "    xv = omegacLc * ( p11*V1 + p12*V2 )\n",
    "    yv = omegacLc * ( p21*V1 + p22*V2 )\n",
    "    zv = omegacLc * ( p31*V1 + p32*V2 ) \n",
    "    return x, y, z, xv, yv, zv "
   ]
  },
  {
   "cell_type": "code",
   "execution_count": 11,
   "id": "af5c27af",
   "metadata": {},
   "outputs": [],
   "source": [
    "# convert from Dromo to State (with numeric variable)\n",
    "def dromo2rv(Lc, sigma, tau, zeta1, zeta2, zeta3, eta1, eta2, eta3, eta4):\n",
    "    \"\"\"\n",
    "    If you want to have r,v non dimensional from dromo, let Lc be 1.\n",
    "    Dromo elements to cartesian representation of state vector (page 14)\n",
    "    Outputs: Dimensional components of position and velocity\n",
    "    \"\"\"\n",
    "    s = 1 + zeta1 * np.cos(sigma) + zeta2 * np.sin(sigma)\n",
    "    alpha = (Lc / (zeta3**2 * s))\n",
    "    omegacLc = (math.sqrt(GMe/Lc**3) * Lc)\n",
    "\n",
    "    p11 = 1-2*(eta2**2 + eta3**2)\n",
    "    p12 = 2*eta1*eta2 - 2*eta4*eta3\n",
    "    p21 = 2*eta1*eta2 + 2*eta4*eta3\n",
    "    p22 = 1-2*(eta1**2 + eta3**2)\n",
    "    p31 = 2*eta1*eta3 - 2*eta4*eta2\n",
    "    p32 = 2*eta3*eta2 + 2*eta4*eta1\n",
    "\n",
    "    x = alpha * ( p11*np.cos(sigma) + p12*np.sin(sigma) )\n",
    "    y = alpha * ( p21*np.cos(sigma) + p22*np.sin(sigma) )\n",
    "    z = alpha * ( p31*np.cos(sigma) + p32*np.sin(sigma) ) \n",
    "\n",
    "    V1 = -zeta3*(np.sin(sigma)+zeta2)\n",
    "    V2 =  zeta3*(np.cos(sigma)+zeta1)\n",
    "\n",
    "    xv = omegacLc * ( p11*V1 + p12*V2 )\n",
    "    yv = omegacLc * ( p21*V1 + p22*V2 )\n",
    "    zv = omegacLc * ( p31*V1 + p32*V2 ) \n",
    "    return x, y, z, xv, yv, zv "
   ]
  },
  {
   "cell_type": "code",
   "execution_count": 12,
   "id": "dda3b940",
   "metadata": {},
   "outputs": [],
   "source": [
    "x,  y,  z, xv, yv, zv = dromo2rv_hk(a0, hk.time, tau, zeta1, zeta2, zeta3, eta1, eta2, eta3, eta4)\n",
    "x,  y,  z  = x/a0, y/a0, z/a0\n",
    "xv, yv, zv = xv*math.sqrt(a0/GMe), yv*math.sqrt(a0/GMe), zv*math.sqrt(a0/GMe)\n"
   ]
  },
  {
   "cell_type": "code",
   "execution_count": 13,
   "id": "202d5304",
   "metadata": {},
   "outputs": [],
   "source": [
    "# Create vectors (Non dimensional) \n",
    "r = np.array([x,  y,  z])  # r.shape  = (3, 1)\n",
    "v = np.array([xv, yv, zv]) \n",
    "r_norm = (r[0]**2 + r[1]**2 + r[2]**2)**(1/2)  \n"
   ]
  },
  {
   "cell_type": "code",
   "execution_count": 14,
   "id": "dee09069",
   "metadata": {},
   "outputs": [],
   "source": [
    "# Define the unit vectors of the (local) orbital frame\n",
    "io = r / r_norm\n",
    "hx, hy, hz = np.cross(r, v, axis=0)\n",
    "h_norm = (hx**2 + hy**2 + hz**2)**(1/2)   \n",
    "ko = np.cross(r, v, axis=0) / h_norm\n",
    "jo = np.cross(ko, io, axis=0)"
   ]
  },
  {
   "cell_type": "code",
   "execution_count": 14,
   "id": "1290698d",
   "metadata": {},
   "outputs": [
    {
     "data": {
      "text/plain": [
       "0.03142626604335114"
      ]
     },
     "execution_count": 14,
     "metadata": {},
     "output_type": "execute_result"
    }
   ],
   "source": [
    "np.tan(np.pi/100)"
   ]
  },
  {
   "cell_type": "code",
   "execution_count": 15,
   "id": "6e5c723a",
   "metadata": {},
   "outputs": [],
   "source": [
    "# J2\n",
    "#Earth's J2 terms\n",
    "fJ2X = ( (3/2)*J2*Rend**2/r_norm**4 ) * (x/r_norm)*(5*(z**2/r_norm**2) -1)\n",
    "fJ2Y = ( (3/2)*J2*Rend**2/r_norm**4 ) * (y/r_norm)*(5*(z**2/r_norm**2) -1)\n",
    "fJ2Z = ( (3/2)*J2*Rend**2/r_norm**4 ) * (z/r_norm)*(5*(z**2/r_norm**2) -3)\n",
    "\n",
    "# Third body (moon)\n",
    "r3 = np.array([ rlnd * hk.sin(omega_lnd*tau),\n",
    "                rlnd * (- (math.sqrt(3)*hk.cos(omega_lnd*tau))/2) ,\n",
    "                rlnd * (- hk.cos(omega_lnd*tau)/2)])\n",
    "r3_norm  = (r3[0]**2 + r3[1]**2 + r3[2]**2)**(1/2)\n",
    "r3r      = r3 - np.array([x, y, z])\n",
    "r3r_norm = (r3r[0]**2 + r3r[1]**2 + r3r[2]**2)**(1/2)\n",
    "\n",
    "fLX = GMlnd * ( (r3[0] - x)/(r3r_norm**3) - r3[0]/(r3_norm**3) )\n",
    "fLY = GMlnd * ( (r3[1] - y)/(r3r_norm**3) - r3[1]/(r3_norm**3) )\n",
    "fLZ = GMlnd * ( (r3[2] - z)/(r3r_norm**3) - r3[2]/(r3_norm**3) )\n",
    "\n",
    "# Superimpose the accelerations\n",
    "apx = fJ2X + fLX + 1000*np.tan(np.pi/100)\n",
    "apy = fJ2Y + fLY + 1000*np.tan(np.pi/100)\n",
    "apz = fJ2Z + fLZ + 1000*np.tan(np.pi/100)\n",
    "acc = np.array([apx, apy, apz])\n",
    "\n",
    "# Project into the orbital frame (from inertial frame)\n",
    "api = np.dot(io, acc) # = apx*xx + apy*xy + apz*xz\n",
    "apj = np.dot(jo, acc) # = apx*yx + apy*yy + apz*yz\n",
    "apk = np.dot(ko, acc) # = apx*zx + apy*zy + apz*zz\n",
    "\n",
    "# Perturbing accelerations\n",
    "a_px = api/(zeta3**4 * s**3)\n",
    "a_py = apj/(zeta3**4 * s**3)\n",
    "a_pz = apk/(zeta3**4 * s**3)\n",
    "\n",
    "# additional weight\n",
    "#a_px = a_px + 1000*np.sqrt(144)\n",
    "#a_py = a_py + 1000*np.sqrt(144)\n",
    "#a_pz = a_px + 1000*np.sqrt(144)"
   ]
  },
  {
   "cell_type": "code",
   "execution_count": 16,
   "id": "28cdb6f4",
   "metadata": {},
   "outputs": [],
   "source": [
    "#EOMs\n",
    "\n",
    "# in heyoka is sigma equivalent to hk.time ?\n",
    "dtaudsigma    = 1/((zeta3**3) * (s**2)) \n",
    "dzeta1dsigma  = s * hk.sin(hk.time)   * a_px   + (zeta1 + (1+s)*hk.cos(hk.time)) * a_py \n",
    "dzeta2dsigma  = - s * hk.cos(hk.time) * a_px   + (zeta2 + (1+s)*hk.sin(hk.time)) * a_py\n",
    "dzeta3dsigma  = - zeta3 * a_py\n",
    "deta1dsigma   = 1/2 * a_pz * (eta4 * hk.cos(hk.time) - eta3 * hk.sin(hk.time))\n",
    "deta2dsigma   = 1/2 * a_pz * (eta3 * hk.cos(hk.time) + eta4 * hk.sin(hk.time))\n",
    "deta3dsigma   = 1/2 * a_pz * (-eta2* hk.cos(hk.time) + eta1 * hk.sin(hk.time))\n",
    "deta4dsigma   = 1/2 * a_pz * (-eta1* hk.cos(hk.time) - eta2 * hk.sin(hk.time))\n",
    "                    "
   ]
  },
  {
   "cell_type": "code",
   "execution_count": 30,
   "id": "5f7a5d05",
   "metadata": {},
   "outputs": [
    {
     "name": "stdout",
     "output_type": "stream",
     "text": [
      "[[0.00000000e+00]\n",
      " [1.15255686e-02]\n",
      " [2.30511372e-02]\n",
      " ...\n",
      " [2.88104638e+02]\n",
      " [2.88116164e+02]\n",
      " [2.88127689e+02]]\n"
     ]
    }
   ],
   "source": [
    "# create an array for the time of events to detect \n",
    "# (corresponding to t_span converted in days - s.t. tau has the same values as t when compared to Cowell)\n",
    "\n",
    "t_span_days = np.empty((np.shape(t_span)[0], 1))\n",
    "\n",
    "for row, ts in zip(range(np.shape(t_span)[0]), t_span):\n",
    "    t_span_days[row, 0] = (ts * math.sqrt((a0**3)/GMe)) / (24*3600)\n",
    "\n",
    "print(t_span_days)"
   ]
  },
  {
   "cell_type": "code",
   "execution_count": 17,
   "id": "47ce3d56",
   "metadata": {},
   "outputs": [],
   "source": [
    "sigma_event = []\n",
    "dromo_state_event = []\n",
    "\n",
    "# Callback for the terminal event.\n",
    "def cb(ta, mr, d_sgn):\n",
    "    #print(\"SIGMA.      when event day is reached: {}\".format(ta.time))\n",
    "    #print(\"State DROMO when event day is reached: {}\".format(ta.state))  \n",
    "    # Add the event time and state to the vectors:\n",
    "    sigma_event.append(ta.time)\n",
    "    dromo_state_event.append(ta.state)\n",
    "    print(ta.state)\n",
    "    #print(\"State rv when event day is reached: {}\".format(dromo2rv(a0, ta.time, *ta.state)))\n",
    "    return False # False: Do stop the integration; True doen't stop\n",
    "\n"
   ]
  },
  {
   "cell_type": "code",
   "execution_count": 18,
   "id": "a09b749f",
   "metadata": {},
   "outputs": [
    {
     "ename": "NameError",
     "evalue": "name 't_span_days' is not defined",
     "output_type": "error",
     "traceback": [
      "\u001b[0;31m---------------------------------------------------------------------------\u001b[0m",
      "\u001b[0;31mNameError\u001b[0m                                 Traceback (most recent call last)",
      "\u001b[0;32m/var/folders/lz/6_h3ytrn3mg06_4hwwfrzhrm0000gn/T/ipykernel_34560/2920826781.py\u001b[0m in \u001b[0;36m<module>\u001b[0;34m\u001b[0m\n\u001b[0;32m----> 1\u001b[0;31m \u001b[0;32mfor\u001b[0m \u001b[0mwhich\u001b[0m\u001b[0;34m,\u001b[0m \u001b[0melem\u001b[0m \u001b[0;32min\u001b[0m \u001b[0mzip\u001b[0m\u001b[0;34m(\u001b[0m\u001b[0mrange\u001b[0m\u001b[0;34m(\u001b[0m\u001b[0mnp\u001b[0m\u001b[0;34m.\u001b[0m\u001b[0mshape\u001b[0m\u001b[0;34m(\u001b[0m\u001b[0mt_span_days\u001b[0m\u001b[0;34m)\u001b[0m\u001b[0;34m[\u001b[0m\u001b[0;36m0\u001b[0m\u001b[0;34m]\u001b[0m\u001b[0;34m)\u001b[0m\u001b[0;34m,\u001b[0m \u001b[0mt_span_days\u001b[0m\u001b[0;34m)\u001b[0m\u001b[0;34m:\u001b[0m\u001b[0;34m\u001b[0m\u001b[0;34m\u001b[0m\u001b[0m\n\u001b[0m\u001b[1;32m      2\u001b[0m     detect_ev = hk.t_event(\n\u001b[1;32m      3\u001b[0m             \u001b[0;31m# The event equation.\u001b[0m\u001b[0;34m\u001b[0m\u001b[0;34m\u001b[0m\u001b[0;34m\u001b[0m\u001b[0m\n\u001b[1;32m      4\u001b[0m             \u001b[0;34m(\u001b[0m\u001b[0;34m(\u001b[0m\u001b[0mwhich\u001b[0m \u001b[0;34m*\u001b[0m \u001b[0mmath\u001b[0m\u001b[0;34m.\u001b[0m\u001b[0msqrt\u001b[0m\u001b[0;34m(\u001b[0m\u001b[0;34m(\u001b[0m\u001b[0ma0\u001b[0m\u001b[0;34m**\u001b[0m\u001b[0;36m3\u001b[0m\u001b[0;34m)\u001b[0m\u001b[0;34m/\u001b[0m\u001b[0mGMe\u001b[0m\u001b[0;34m)\u001b[0m\u001b[0;34m)\u001b[0m\u001b[0;34m/\u001b[0m\u001b[0;34m(\u001b[0m\u001b[0;36m24\u001b[0m\u001b[0;34m*\u001b[0m\u001b[0;36m3600\u001b[0m\u001b[0;34m)\u001b[0m\u001b[0;34m)\u001b[0m \u001b[0;34m-\u001b[0m \u001b[0melem\u001b[0m\u001b[0;34m,\u001b[0m\u001b[0;34m\u001b[0m\u001b[0;34m\u001b[0m\u001b[0m\n\u001b[1;32m      5\u001b[0m             \u001b[0;31m# The callback.\u001b[0m\u001b[0;34m\u001b[0m\u001b[0;34m\u001b[0m\u001b[0;34m\u001b[0m\u001b[0m\n",
      "\u001b[0;31mNameError\u001b[0m: name 't_span_days' is not defined"
     ]
    }
   ],
   "source": [
    "for which, elem in zip(range(np.shape(t_span_days)[0]), t_span_days):\n",
    "    detect_ev = hk.t_event(\n",
    "            # The event equation.\n",
    "            ((which * math.sqrt((a0**3)/GMe))/(24*3600)) - elem,\n",
    "            # The callback.\n",
    "            callback = cb)"
   ]
  },
  {
   "cell_type": "code",
   "execution_count": 18,
   "id": "930b35eb",
   "metadata": {},
   "outputs": [],
   "source": [
    "# Define two close non-terminal events.\n",
    "#ev0 = hk.t_event( ((tau * math.sqrt((a0**3)/GMe))/(24*3600)) - t_span_days[-20], \n",
    "#                 callback = cb)\n",
    "                  \n",
    "    \n",
    "ev1 = hk.t_event(((tau * math.sqrt((a0**3)/GMe))/(24*3600)) - fin_day, callback = cb)"
   ]
  },
  {
   "cell_type": "code",
   "execution_count": 19,
   "id": "d60c0802",
   "metadata": {
    "scrolled": false
   },
   "outputs": [
    {
     "name": "stdout",
     "output_type": "stream",
     "text": [
      "Compiling the Taylor integrator ... (this is done only once)\n",
      "\n",
      "Heyoka Taylor integrator:\n",
      " Taylor order            : 18\n",
      "Dimension               : 8\n",
      "Time                    : 0.0000000000000000\n",
      "State                   : [0.0000000000000000, 0.95000015413507943, 0.0000000000000000, 3.2025678858150046, -0.18301270304063946, -0.18301270304063952, 0.68301270158450111, -0.68301270158450100]\n",
      "N of terminal events    : 1\n",
      "\n"
     ]
    }
   ],
   "source": [
    "print('Compiling the Taylor integrator ... (this is done only once)')\n",
    "start_time = time.time()\n",
    "\n",
    "ta = hk.taylor_adaptive(sys = [(tau,dtaudsigma),\n",
    "                               (zeta1,dzeta1dsigma),\n",
    "                               (zeta2,dzeta2dsigma),\n",
    "                               (zeta3,dzeta3dsigma),\n",
    "                               (eta1,deta1dsigma),\n",
    "                               (eta2,deta2dsigma),\n",
    "                               (eta3,deta3dsigma),\n",
    "                               (eta4,deta4dsigma)],\n",
    "                                state = S0,\n",
    "                                time = sigma0,\n",
    "                                tol = 1e-14,\n",
    "                                compact_mode = True,\n",
    "                                # The list of terminal events.\n",
    "                                t_events = [ev1])\n",
    "\n",
    "# https://bluescarni.github.io/heyoka.py/notebooks/Event%20detection.html\n",
    "#end_time = time.time()\n",
    "#print('Done, in');\n",
    "#print(\"--- %s seconds ---\" % (end_time - start_time))\n",
    "print(\"\\nHeyoka Taylor integrator:\\n\", ta)"
   ]
  },
  {
   "cell_type": "code",
   "execution_count": 20,
   "id": "aeea9fc3",
   "metadata": {},
   "outputs": [],
   "source": [
    "# Here we redefine the initial conditions since we may want to change them without recompiling the integrator\n",
    "ta.time = t0\n",
    "# Note the python syntax to assign directly the array elements. Here necessary\n",
    "# as heyoka does not allow to change the memory location of the state\n",
    "ta.state[:] =  S0"
   ]
  },
  {
   "cell_type": "code",
   "execution_count": 21,
   "id": "bd835ffc",
   "metadata": {},
   "outputs": [
    {
     "name": "stdout",
     "output_type": "stream",
     "text": [
      "[ 3.13370106e+02  1.74425724e+10  2.77697158e+10  5.20230942e-07\n",
      " -5.74571609e-02 -8.37888203e-01  2.07753283e-01 -5.01478422e-01]\n",
      "Done, in\n",
      "--- 4.738505125045776 seconds ---\n",
      "the shape of the solution (cartesian form) is (202, 8)\n"
     ]
    }
   ],
   "source": [
    "#start_time = time.time()\n",
    "out = ta.propagate_grid(sigma_span)\n",
    "end_time = time.time()\n",
    "\n",
    "print('Done, in');\n",
    "print(\"--- %s seconds ---\" % (end_time - start_time))\n",
    "\n",
    "#print(out)\n",
    "sol = out[4] \n",
    "size1, size2 = np.shape(sol)\n",
    "#print(sol[-1])\n",
    "print(f'the shape of the solution (cartesian form) is {size1, size2}') #(155542, 8) check row 155541=event\n"
   ]
  },
  {
   "cell_type": "code",
   "execution_count": 22,
   "id": "ec5c896c",
   "metadata": {},
   "outputs": [
    {
     "name": "stdout",
     "output_type": "stream",
     "text": [
      "1\n",
      "[[2.09922317e+11 2.09944318e+11 2.09901013e+11 1.68623981e+04\n",
      "  1.68632897e+04 1.68615519e+04]]\n",
      "[2.5807143969552246]\n",
      "[array([ 3.13370106e+02,  1.74425724e+10,  2.77697158e+10,  5.20230942e-07,\n",
      "       -5.74571609e-02, -8.37888203e-01,  2.07753283e-01, -5.01478422e-01])]\n"
     ]
    }
   ],
   "source": [
    "size_ev = np.shape(sigma_event)[0]\n",
    "print(size_ev)\n",
    "dr = np.empty((size_ev, 6))\n",
    "\n",
    "for row, sig_ev, ev in zip(range(size_ev), sigma_event, dromo_state_event):\n",
    "    dr[row, :] = (dromo2rv(a0, sig_ev, *ev))\n",
    "    \n",
    "print(dr)\n",
    "print(sigma_event)\n",
    "\n",
    "print(dromo_state_event)"
   ]
  },
  {
   "cell_type": "code",
   "execution_count": 25,
   "id": "e01a6488",
   "metadata": {},
   "outputs": [
    {
     "name": "stdout",
     "output_type": "stream",
     "text": [
      "[2.5807143969552246]\n",
      "[array([ 3.13370106e+02,  1.74425724e+10,  2.77697158e+10,  5.20230942e-07,\n",
      "       -5.74571609e-02, -8.37888203e-01,  2.07753283e-01, -5.01478422e-01])]\n",
      "while last tau of output is   5.978179379963603\n",
      "(209922316872.89917, 209944318345.51328, 209901012720.46307, 16862.398060968026, 16863.289728947166, 16861.55187273793)\n",
      "norm r:  363596522354.0018\n",
      "norm v:  29206.55646265039\n"
     ]
    }
   ],
   "source": [
    "df_dromo = pd.DataFrame(sol, columns=[\"tau\", \"z1\", \"z2\", \"z3\", \"h1\", \"h2\", \"h3\", \"h4\"])\n",
    "#print(df_dromo.tail(1))\n",
    "\n",
    "print(sigma_event)\n",
    "print(dromo_state_event)\n",
    "\n",
    "#print(\"sigma associated with event: \",sigma_event[0], sigma_event[1],  \"rad\")\n",
    "#print(\"tau associated with event:   \", dromo_state_event[1][0])\n",
    "print(\"while last tau of output is  \", sol[-1][0])  # 312.91916935939463 try increasing N\n",
    "rv_event = dromo2rv(a0, sigma_event[0], *dromo_state_event[0])\n",
    "\n",
    "#(-24219.050293416265,\n",
    "\n",
    "# 227962.1064595895,\n",
    "# 129753.44244386554,\n",
    "# -0.3072444681649876,\n",
    "# 0.1539502028637808,\n",
    "# 0.07809786487495467)\n",
    "print(rv_event)\n",
    "r_norma = (rv_event[0]**2+rv_event[1]**2+rv_event[2]**2)**0.5\n",
    "print(\"norm r: \", r_norma)\n",
    "#print(\"r error:\", (np.abs(r_norma-263418.3747296585))*1000)\n",
    "v_norma = (rv_event[3]**2+rv_event[4]**2+rv_event[5]**2)**0.5\n",
    "print(\"norm v: \", v_norma)\n",
    "#print(\"v error:\", (np.abs(v_norma-0.35241893529632706))*1000)\n"
   ]
  },
  {
   "cell_type": "code",
   "execution_count": 26,
   "id": "d7905092",
   "metadata": {},
   "outputs": [],
   "source": [
    "state = np.empty((size1, 6))\n",
    "r_norm = np.empty((size1, 1))\n",
    "\n",
    "for row in range(size1):\n",
    "    state[row, :] = dromo2rv(a0, sigma_span[row], *sol[row, :])\n",
    "    r_norm[row, 0] = math.sqrt(state[row, 0]**2 + state[row, 1]**2 + state[row, 2]**2 )"
   ]
  },
  {
   "cell_type": "code",
   "execution_count": 27,
   "id": "ebbbdd35",
   "metadata": {},
   "outputs": [
    {
     "name": "stdout",
     "output_type": "stream",
     "text": [
      "final state [7.76860538e+07 7.80879737e+07 7.72627414e+07 3.24363061e+02\n",
      " 3.25253676e+02 3.23509794e+02]\n",
      "last day:  [5.49662837]\n"
     ]
    }
   ],
   "source": [
    "print(\"final state\", state[-1, :])\n",
    "\n",
    "tau_days = np.empty((size1, 1))\n",
    "for t, i in zip(df_dromo[\"tau\"], range(size1)):\n",
    "    tau_days[i, 0] = ( t*math.sqrt((a0**3)/GMe) )/(24*3600)\n",
    "    \n",
    "print(\"last day: \", tau_days[-1, :]) \n",
    "\n",
    "# last day:  [287.82589286]"
   ]
  },
  {
   "cell_type": "code",
   "execution_count": 28,
   "id": "1b7190b4",
   "metadata": {},
   "outputs": [
    {
     "data": {
      "image/png": "[encoded data removed]",
      "text/plain": [
       "<Figure size 432x288 with 1 Axes>"
      ]
     },
     "metadata": {
      "needs_background": "light"
     },
     "output_type": "display_data"
    },
    {
     "data": {
      "image/png": "[encoded data removed]",
      "text/plain": [
       "<Figure size 432x288 with 1 Axes>"
      ]
     },
     "metadata": {
      "needs_background": "light"
     },
     "output_type": "display_data"
    }
   ],
   "source": [
    "plt.plot(tau_days[:, 0], r_norm[:, 0], 'r')\n",
    "plt.show()\n",
    "\n",
    "df_pos = pd.DataFrame(state, columns=[\"x\", \"y\", \"z\", \"xv\", \"yv\", \"zv\"])\n",
    "\n",
    "ax = plt.axes(projection='3d')\n",
    "ax.plot3D(df_pos[\"x\"], df_pos[\"y\"], df_pos[\"z\"], color = 'k', label = 'orbit')\n",
    "plt.show()\n"
   ]
  },
  {
   "cell_type": "code",
   "execution_count": null,
   "id": "63852a99",
   "metadata": {},
   "outputs": [],
   "source": []
  }
 ],
 "metadata": {
  "kernelspec": {
   "display_name": "Python 3 (ipykernel)",
   "language": "python",
   "name": "python3"
  },
  "language_info": {
   "codemirror_mode": {
    "name": "ipython",
    "version": 3
   },
   "file_extension": ".py",
   "mimetype": "text/x-python",
   "name": "python",
   "nbconvert_exporter": "python",
   "pygments_lexer": "ipython3",
   "version": "3.9.5"
  }
 },
 "nbformat": 4,
 "nbformat_minor": 5
}
