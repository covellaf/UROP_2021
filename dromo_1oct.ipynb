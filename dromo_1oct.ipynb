{
 "cells": [
  {
   "cell_type": "code",
   "execution_count": 383,
   "id": "c703a6f5",
   "metadata": {},
   "outputs": [],
   "source": [
    "# Core imports\n",
    "import heyoka as hk\n",
    "import pykep as pk\n",
    "import numpy as np\n",
    "from numpy import linalg as la\n",
    "import pandas as pd\n",
    "import math\n",
    "from numpy.lib.function_base import append\n",
    "from scipy.integrate import odeint\n",
    "# Sys imports\n",
    "import time\n",
    "# Plot imports\n",
    "from matplotlib import pyplot as plt\n",
    "from mpl_toolkits.mplot3d import Axes3D\n",
    "import matplotlib.ticker as mtick\n",
    "from UROP_aux_func import rv2elorb"
   ]
  },
  {
   "cell_type": "code",
   "execution_count": 384,
   "id": "d206c176",
   "metadata": {},
   "outputs": [],
   "source": [
    "\"\"\"\n",
    "Constant parameters \n",
    "\"\"\"\n",
    "\n",
    "GMe = 398601   #[km^3/sec^2]\n",
    "Re  = 6371.22  #[km]\n",
    "J2 = 0.00108265         # [-] second zonal harmonic\n",
    "GMl = 4902.66 #[km^3/sec^2] for the Moon\n",
    "rl = 384400   #[km] radius of the lunar orbit\n",
    "omega_l = 2.665315780887e-6 #[1/s] lunar orbital angular velocity"
   ]
  },
  {
   "cell_type": "code",
   "execution_count": 444,
   "id": "344cd428",
   "metadata": {},
   "outputs": [],
   "source": [
    "# create heyoka variables\n",
    "tau, zeta1, zeta2, zeta3, eta1, eta2, eta3, eta4 = hk.make_vars(\"tau\", \"zeta1\", \"zeta2\", \"zeta3\",\n",
    "                                                                \"eta1\", \"eta2\", \"eta3\", \"eta4\")"
   ]
  },
  {
   "cell_type": "code",
   "execution_count": 445,
   "id": "5eca7d0f",
   "metadata": {},
   "outputs": [],
   "source": [
    "# Step 1: Define Initial Conditions (dimensional)\n",
    "r0 = np.array([0.0, -5888.9727, -3400.0]) #km   (class 'numpy.ndarray')\n",
    "v0 = np.array([10.691338, 0.0, 0.0])      #km/s\n",
    "[a0, e0_norm, i0, RAAN0, omega0, theta0] = rv2elorb(r0, v0, GMe)"
   ]
  },
  {
   "cell_type": "code",
   "execution_count": 446,
   "id": "7b86d984",
   "metadata": {},
   "outputs": [],
   "source": [
    "# Step 2: non-dimensionalise \n",
    "r0nd = r0 / a0 #[km/km] = [-] since the orbit is highly elliptical normalise with the initial semimajor axis\n",
    "               # otherwise use r0nd = r0/la.norm(r0)\n",
    "v0nd = v0 * math.sqrt(a0/GMe)    #[-]\n",
    "t0   = 0                         #s\n",
    "t0nd = t0 / math.sqrt((a0**3)/GMe) #[-]\n",
    "# Non-dimensionalise the parameters\n",
    "GMend = 1 # GMe * a0d / (a0d * GMe) \n",
    "Rend  = Re / a0\n",
    "rlnd  = rl / a0\n",
    "omega_lnd = omega_l * math.sqrt((a0**3)/GMe)\n",
    "GMlnd = GMl / GMe"
   ]
  },
  {
   "cell_type": "code",
   "execution_count": 447,
   "id": "6a1f3b3e",
   "metadata": {},
   "outputs": [],
   "source": [
    "# Step 3: tranform the non-dimensional ICs (r0nd, v0nd) in DROMO elements \n",
    "h0 = np.cross(r0nd, v0nd)                      # 3-components vector\n",
    "e0 = - r0nd/la.norm(r0nd) - np.cross(h0, v0nd) # 3-components vector\n",
    "# sigma0 from page 7. and from page 14. (initial conditions)\n",
    "sigma0 = theta0 "
   ]
  },
  {
   "cell_type": "code",
   "execution_count": 448,
   "id": "c656b310",
   "metadata": {},
   "outputs": [],
   "source": [
    "# Initial state (sigma; tau, zeta1, zeta2, zeta3, eta1, eta2, eta3, eta4)\n",
    "tau_0   = t0nd\n",
    "zeta1_0 = la.norm(e0)\n",
    "zeta2_0 = 0\n",
    "zeta3_0 = 1/la.norm(h0)\n",
    "eta1_0  = math.sin(i0/2)*math.cos((RAAN0-omega0)/2)\n",
    "eta2_0  = math.sin(i0/2)*math.sin((RAAN0-omega0)/2)\n",
    "eta3_0  = math.cos(i0/2)*math.sin((RAAN0+omega0)/2)\n",
    "eta4_0  = math.cos(i0/2)*math.cos((RAAN0+omega0)/2)\n",
    "S0 = [tau_0, zeta1_0, zeta2_0, zeta3_0, eta1_0, eta2_0, eta3_0, eta4_0]"
   ]
  },
  {
   "cell_type": "code",
   "execution_count": 449,
   "id": "a40ba950",
   "metadata": {},
   "outputs": [],
   "source": [
    "# Valore finale di sigma\n",
    "sigma_fin = 60*2*np.pi     # rad  311.10986051\n",
    "fin_day =  288.1276894125 # days\n",
    "# numero di passi per orbita\n",
    "# m = 1000\n",
    "# N = math.floor((sigma_fin - sigma0)/(2*np.pi)) * m\n",
    "delta_sigma = 0.002   \n",
    "N = math.floor((sigma_fin-sigma0)/delta_sigma - 1)\n",
    "sigma_span = np.linspace(sigma0, sigma_fin, N)  "
   ]
  },
  {
   "cell_type": "code",
   "execution_count": 450,
   "id": "7ae549be",
   "metadata": {},
   "outputs": [],
   "source": [
    "# Auxiliary relationships\n",
    "s = 1 + zeta1 * hk.cos(hk.time) + zeta2 * hk.sin(hk.time)"
   ]
  },
  {
   "cell_type": "code",
   "execution_count": 451,
   "id": "18ed0d97",
   "metadata": {},
   "outputs": [],
   "source": [
    "# convert from Dromo to State (with heyoka variable)\n",
    "def dromo2rv_hk(Lc, sigma, tau, zeta1, zeta2, zeta3, eta1, eta2, eta3, eta4):\n",
    "    \"\"\"\n",
    "    If you want to have r,v non dimensional from dromo, let Lc be 1.\n",
    "    Dromo elements to cartesian representation of state vector (page 14)\n",
    "    Outputs: Dimensional components of position and velocity\n",
    "    \"\"\"\n",
    "    s = 1 + zeta1 * hk.cos(sigma) + zeta2 * hk.sin(sigma)\n",
    "    alpha = (Lc / (zeta3**2 * s))\n",
    "    omegacLc = (math.sqrt(GMe/Lc**3) * Lc)\n",
    "\n",
    "    p11 = 1-2*(eta2**2 + eta3**2)\n",
    "    p12 = 2*eta1*eta2 - 2*eta4*eta3\n",
    "    p21 = 2*eta1*eta2 + 2*eta4*eta3\n",
    "    p22 = 1-2*(eta1**2 + eta3**2)\n",
    "    p31 = 2*eta1*eta3 - 2*eta4*eta2\n",
    "    p32 = 2*eta3*eta2 + 2*eta4*eta1\n",
    "\n",
    "    x = alpha * ( p11*hk.cos(sigma) + p12*hk.sin(sigma) )\n",
    "    y = alpha * ( p21*hk.cos(sigma) + p22*hk.sin(sigma) )\n",
    "    z = alpha * ( p31*hk.cos(sigma) + p32*hk.sin(sigma) ) \n",
    "\n",
    "    V1 = -zeta3*(hk.sin(sigma)+zeta2)\n",
    "    V2 =  zeta3*(hk.cos(sigma)+zeta1)\n",
    "\n",
    "    xv = omegacLc * ( p11*V1 + p12*V2 )\n",
    "    yv = omegacLc * ( p21*V1 + p22*V2 )\n",
    "    zv = omegacLc * ( p31*V1 + p32*V2 ) \n",
    "    return x, y, z, xv, yv, zv "
   ]
  },
  {
   "cell_type": "code",
   "execution_count": 452,
   "id": "af5c27af",
   "metadata": {},
   "outputs": [],
   "source": [
    "# convert from Dromo to State (with numeric variable)\n",
    "def dromo2rv(Lc, sigma, tau, zeta1, zeta2, zeta3, eta1, eta2, eta3, eta4):\n",
    "    \"\"\"\n",
    "    If you want to have r,v non dimensional from dromo, let Lc be 1.\n",
    "    Dromo elements to cartesian representation of state vector (page 14)\n",
    "    Outputs: Dimensional components of position and velocity\n",
    "    \"\"\"\n",
    "    s = 1 + zeta1 * np.cos(sigma) + zeta2 * np.sin(sigma)\n",
    "    alpha = (Lc / (zeta3**2 * s))\n",
    "    omegacLc = (math.sqrt(GMe/Lc**3) * Lc)\n",
    "\n",
    "    p11 = 1-2*(eta2**2 + eta3**2)\n",
    "    p12 = 2*eta1*eta2 - 2*eta4*eta3\n",
    "    p21 = 2*eta1*eta2 + 2*eta4*eta3\n",
    "    p22 = 1-2*(eta1**2 + eta3**2)\n",
    "    p31 = 2*eta1*eta3 - 2*eta4*eta2\n",
    "    p32 = 2*eta3*eta2 + 2*eta4*eta1\n",
    "\n",
    "    x = alpha * ( p11*np.cos(sigma) + p12*np.sin(sigma) )\n",
    "    y = alpha * ( p21*np.cos(sigma) + p22*np.sin(sigma) )\n",
    "    z = alpha * ( p31*np.cos(sigma) + p32*np.sin(sigma) ) \n",
    "\n",
    "    V1 = -zeta3*(np.sin(sigma)+zeta2)\n",
    "    V2 =  zeta3*(np.cos(sigma)+zeta1)\n",
    "\n",
    "    xv = omegacLc * ( p11*V1 + p12*V2 )\n",
    "    yv = omegacLc * ( p21*V1 + p22*V2 )\n",
    "    zv = omegacLc * ( p31*V1 + p32*V2 ) \n",
    "    return x, y, z, xv, yv, zv "
   ]
  },
  {
   "cell_type": "code",
   "execution_count": 453,
   "id": "dda3b940",
   "metadata": {},
   "outputs": [],
   "source": [
    "x,  y,  z, xv, yv, zv = dromo2rv_hk(a0, hk.time, tau, zeta1, zeta2, zeta3, eta1, eta2, eta3, eta4)\n",
    "x,  y,  z  = x/a0, y/a0, z/a0\n",
    "xv, yv, zv = xv*math.sqrt(a0/GMe), yv*math.sqrt(a0/GMe), zv*math.sqrt(a0/GMe)\n"
   ]
  },
  {
   "cell_type": "code",
   "execution_count": 454,
   "id": "202d5304",
   "metadata": {},
   "outputs": [],
   "source": [
    "# Create vectors (Non dimensional) \n",
    "r = np.array([x,  y,  z])  # r.shape  = (3, 1)\n",
    "v = np.array([xv, yv, zv]) \n",
    "r_norm = (r[0]**2 + r[1]**2 + r[2]**2)**(1/2)  \n"
   ]
  },
  {
   "cell_type": "code",
   "execution_count": 455,
   "id": "dee09069",
   "metadata": {},
   "outputs": [],
   "source": [
    "# Define the unit vectors of the (local) orbital frame\n",
    "io = r / r_norm\n",
    "hx, hy, hz = np.cross(r, v, axis=0)\n",
    "h_norm = (hx**2 + hy**2 + hz**2)**(1/2)   \n",
    "ko = np.cross(r, v, axis=0) / h_norm\n",
    "jo = np.cross(ko, io, axis=0)"
   ]
  },
  {
   "cell_type": "code",
   "execution_count": 456,
   "id": "6e5c723a",
   "metadata": {},
   "outputs": [],
   "source": [
    "# J2\n",
    "#Earth's J2 terms\n",
    "fJ2X = ( (3/2)*J2*Rend**2/r_norm**4 ) * (x/r_norm)*(5*(z**2/r_norm**2) -1)\n",
    "fJ2Y = ( (3/2)*J2*Rend**2/r_norm**4 ) * (y/r_norm)*(5*(z**2/r_norm**2) -1)\n",
    "fJ2Z = ( (3/2)*J2*Rend**2/r_norm**4 ) * (z/r_norm)*(5*(z**2/r_norm**2) -3)\n",
    "\n",
    "# Third body (moon)\n",
    "r3 = np.array([ rlnd * hk.sin(omega_lnd*tau),\n",
    "                rlnd * (- (math.sqrt(3)*hk.cos(omega_lnd*tau))/2) ,\n",
    "                rlnd * (- hk.cos(omega_lnd*tau)/2)])\n",
    "r3_norm  = (r3[0]**2 + r3[1]**2 + r3[2]**2)**(1/2)\n",
    "r3r      = r3 - np.array([x, y, z])\n",
    "r3r_norm = (r3r[0]**2 + r3r[1]**2 + r3r[2]**2)**(1/2)\n",
    "\n",
    "fLX = GMlnd * ( (r3[0] - x)/(r3r_norm**3) - r3[0]/(r3_norm**3) )\n",
    "fLY = GMlnd * ( (r3[1] - y)/(r3r_norm**3) - r3[1]/(r3_norm**3) )\n",
    "fLZ = GMlnd * ( (r3[2] - z)/(r3r_norm**3) - r3[2]/(r3_norm**3) )\n",
    "\n",
    "# Superimpose the accelerations\n",
    "apx = fJ2X + fLX \n",
    "apy = fJ2Y + fLY \n",
    "apz = fJ2Z + fLZ\n",
    "acc = np.array([apx, apy, apz])\n",
    "\n",
    "# Project into the orbital frame (from inertial frame)\n",
    "api = np.dot(io, acc) # = apx*xx + apy*xy + apz*xz\n",
    "apj = np.dot(jo, acc) # = apx*yx + apy*yy + apz*yz\n",
    "apk = np.dot(ko, acc) # = apx*zx + apy*zy + apz*zz\n",
    "\n",
    "# Perturbing accelerations\n",
    "a_px = api/(zeta3**4 * s**3)\n",
    "a_py = apj/(zeta3**4 * s**3)\n",
    "a_pz = apk/(zeta3**4 * s**3)"
   ]
  },
  {
   "cell_type": "code",
   "execution_count": 457,
   "id": "28cdb6f4",
   "metadata": {},
   "outputs": [],
   "source": [
    "#EOMs\n",
    "\n",
    "# in heyoka is sigma equivalent to hk.time ?\n",
    "dtaudsigma    = 1/((zeta3**3) * (s**2)) \n",
    "dzeta1dsigma  = s * hk.sin(hk.time)   * a_px   + (zeta1 + (1+s)*hk.cos(hk.time)) * a_py \n",
    "dzeta2dsigma  = - s * hk.cos(hk.time) * a_px   + (zeta2 + (1+s)*hk.sin(hk.time)) * a_py\n",
    "dzeta3dsigma  = - zeta3 * a_py\n",
    "deta1dsigma   = 1/2 * a_pz * (eta4 * hk.cos(hk.time) - eta3 * hk.sin(hk.time))\n",
    "deta2dsigma   = 1/2 * a_pz * (eta3 * hk.cos(hk.time) + eta4 * hk.sin(hk.time))\n",
    "deta3dsigma   = 1/2 * a_pz * (-eta2* hk.cos(hk.time) + eta1 * hk.sin(hk.time))\n",
    "deta4dsigma   = 1/2 * a_pz * (-eta1* hk.cos(hk.time) - eta2 * hk.sin(hk.time))\n",
    "                    "
   ]
  },
  {
   "cell_type": "code",
   "execution_count": 458,
   "id": "47ce3d56",
   "metadata": {},
   "outputs": [],
   "source": [
    "sigma_event = []\n",
    "dromo_state_event = []\n",
    "sol_event = []\n",
    "\n",
    "# Callback for the terminal event.\n",
    "def t_cb(ta, mr, d_sgn):\n",
    "    # Append the event info\n",
    "    sigma_event.append(ta.time)\n",
    "    dromo_state_event.append(ta.state)\n",
    "    sol_event.append(ta)\n",
    "    # Do stop the integration.\n",
    "    return False\n",
    "\n",
    "t_ev = hk.t_event(\n",
    "        # The event equation.\n",
    "        ((tau * math.sqrt((a0**3)/GMe))/(24*3600)) - fin_day,\n",
    "        # The callback.\n",
    "        callback = t_cb)"
   ]
  },
  {
   "cell_type": "code",
   "execution_count": 459,
   "id": "d60c0802",
   "metadata": {
    "scrolled": false
   },
   "outputs": [
    {
     "name": "stdout",
     "output_type": "stream",
     "text": [
      "Compiling the Taylor integrator ... (this is done only once)\n",
      "Done, in\n",
      "--- 3.934126138687134 seconds ---\n",
      "\n",
      "Heyoka Taylor integrator:\n",
      " Taylor order            : 20\n",
      "Dimension               : 8\n",
      "Time                    : 0.0000000000000000\n",
      "State                   : [0.0000000000000000, 0.95000015413507943, 0.0000000000000000, 3.2025678858150046, -0.18301270304063946, -0.18301270304063952, 0.68301270158450111, -0.68301270158450100]\n",
      "N of terminal events    : 1\n",
      "\n"
     ]
    }
   ],
   "source": [
    "print('Compiling the Taylor integrator ... (this is done only once)')\n",
    "start_time = time.time()\n",
    "\n",
    "ta = hk.taylor_adaptive(sys = [(tau,dtaudsigma),\n",
    "                               (zeta1,dzeta1dsigma),\n",
    "                               (zeta2,dzeta2dsigma),\n",
    "                               (zeta3,dzeta3dsigma),\n",
    "                               (eta1,deta1dsigma),\n",
    "                               (eta2,deta2dsigma),\n",
    "                               (eta3,deta3dsigma),\n",
    "                               (eta4,deta4dsigma)],\n",
    "                                state = S0,\n",
    "                                time = sigma0,\n",
    "                                tol = 1e-16,\n",
    "                                compact_mode = True,\n",
    "                                # The list of terminal events.\n",
    "                                t_events = [t_ev])\n",
    "\n",
    "# https://bluescarni.github.io/heyoka.py/notebooks/Event%20detection.html\n",
    "#ta.propagate_until(t = 311.10986051) # if t is sigma (indep var) propagate until sigma_fin\n",
    "\n",
    "end_time = time.time()\n",
    "\n",
    "print('Done, in');\n",
    "print(\"--- %s seconds ---\" % (end_time - start_time))\n",
    "\n",
    "print(\"\\nHeyoka Taylor integrator:\\n\", ta)\n",
    "\n",
    "# Can you give me any insight as to what the error means?"
   ]
  },
  {
   "cell_type": "code",
   "execution_count": 460,
   "id": "aeea9fc3",
   "metadata": {},
   "outputs": [],
   "source": [
    "# Here we redefine the initial conditions since we may want to change them without recompiling the integrator\n",
    "ta.time = t0\n",
    "# Note the python syntax to assign directly the array elements. Here necessary\n",
    "# as heyoka does not allow to change the memory location of the state\n",
    "ta.state[:] =  S0"
   ]
  },
  {
   "cell_type": "code",
   "execution_count": 461,
   "id": "bd835ffc",
   "metadata": {},
   "outputs": [
    {
     "name": "stdout",
     "output_type": "stream",
     "text": [
      "Done, in\n",
      "--- 0.16520404815673828 seconds ---\n",
      "(<taylor_outcome.???: -1>, 0.022030074253667837, 0.5438100991070369, 1721, array([[ 0.00000000e+00,  9.50000154e-01,  0.00000000e+00, ...,\n",
      "        -1.83012703e-01,  6.83012702e-01, -6.83012702e-01],\n",
      "       [ 1.60129685e-05,  9.50000156e-01,  7.12549522e-07, ...,\n",
      "        -1.83012271e-01,  6.83012817e-01, -6.83012586e-01],\n",
      "       [ 3.20259994e-05,  9.50000163e-01,  1.42512781e-06, ...,\n",
      "        -1.83011840e-01,  6.83012933e-01, -6.83012469e-01],\n",
      "       ...,\n",
      "       [ 3.13059688e+02,  9.38193336e-01,  1.24026565e-01, ...,\n",
      "        -1.71908748e-01,  6.85920011e-01, -6.80595082e-01],\n",
      "       [ 3.13081712e+02,  9.38100286e-01,  1.24115130e-01, ...,\n",
      "        -1.71921188e-01,  6.85916920e-01, -6.80599019e-01],\n",
      "       [ 3.13103815e+02,  9.38005818e-01,  1.24202564e-01, ...,\n",
      "        -1.71933778e-01,  6.85913793e-01, -6.80603020e-01]]))\n",
      "[ 3.13103815e+02  9.38005818e-01  1.24202564e-01  3.07668532e+00\n",
      " -1.91678309e-01 -1.71933778e-01  6.85913793e-01 -6.80603020e-01] [ 3.13081712e+02  9.38100286e-01  1.24115130e-01  3.07912615e+00\n",
      " -1.91692614e-01 -1.71921188e-01  6.85916920e-01 -6.80599019e-01] [ 3.13059688e+02  9.38193336e-01  1.24026565e-01  3.08153137e+00\n",
      " -1.91706691e-01 -1.71908748e-01  6.85920011e-01 -6.80595082e-01]\n",
      "the shape of the solution (cartesian form) is (155542, 8)\n"
     ]
    }
   ],
   "source": [
    "start_time = time.time()\n",
    "out = ta.propagate_grid(sigma_span)\n",
    "end_time = time.time()\n",
    "\n",
    "print('Done, in');\n",
    "print(\"--- %s seconds ---\" % (end_time - start_time))\n",
    "\n",
    "print(out)\n",
    "sol = out[4] \n",
    "size1, size2 = np.shape(sol)\n",
    "print(sol[-1], sol[-2], sol[-3])\n",
    "print(f'the shape of the solution (cartesian form) is {size1, size2}') #(62216, 8)\n",
    "\n",
    "# If True (69114, 8)"
   ]
  },
  {
   "cell_type": "code",
   "execution_count": 462,
   "id": "e01a6488",
   "metadata": {},
   "outputs": [
    {
     "name": "stdout",
     "output_type": "stream",
     "text": [
      "sigma associated with event:  311.10986050947207 rad\n",
      "tau associated with event:    313.3701056148616\n",
      "while last tau of output is   313.103815492126\n"
     ]
    },
    {
     "data": {
      "text/plain": [
       "(-24219.050182029176,\n",
       " 227962.10640614215,\n",
       " 129753.44241688402,\n",
       " -0.30724446834049995,\n",
       " 0.15395020463765988,\n",
       " 0.07809786588412296)"
      ]
     },
     "execution_count": 462,
     "metadata": {},
     "output_type": "execute_result"
    }
   ],
   "source": [
    "df_dromo = pd.DataFrame(sol, columns=[\"tau\", \"z1\", \"z2\", \"z3\", \"h1\", \"h2\", \"h3\", \"h4\"])\n",
    "#print(df_dromo.tail())\n",
    "type(sol_event[0])   # heyoka.core._taylor_adaptive_dbl\n",
    "\n",
    "print(\"sigma associated with event: \", sigma_event[0], \"rad\")\n",
    "print(\"tau associated with event:   \", dromo_state_event[0][0])\n",
    "print(\"while last tau of output is  \", sol[-1][0])\n",
    "dromo2rv(a0, sigma_event[0], *dromo_state_event[0])\n",
    "#(-24219.050293416265,\n",
    "# 227962.1064595895,\n",
    "# 129753.44244386554,\n",
    "# -0.3072444681649876,\n",
    "# 0.1539502028637808,\n",
    "# 0.07809786487495467)"
   ]
  },
  {
   "cell_type": "code",
   "execution_count": 405,
   "id": "d7905092",
   "metadata": {},
   "outputs": [],
   "source": [
    "state = np.empty((size1, 6))\n",
    "r_norm = np.empty((size1, 1))\n",
    "\n",
    "for row in range(size1):\n",
    "    state[row, :] = dromo2rv(a0, sigma_span[row], *sol[row, :])\n",
    "    r_norm[row, 0] = math.sqrt(state[row, 0]**2 + state[row, 1]**2 + state[row, 2]**2 )"
   ]
  },
  {
   "cell_type": "code",
   "execution_count": 406,
   "id": "ebbbdd35",
   "metadata": {},
   "outputs": [
    {
     "name": "stdout",
     "output_type": "stream",
     "text": [
      "final state [-1.75609637e+04  2.23531469e+05  1.27436087e+05 -3.14082687e-01\n",
      "  2.60490813e-01  1.38717763e-01]\n",
      "last day:  [287.87978888]\n"
     ]
    }
   ],
   "source": [
    "\n",
    "#print(\"initial state\", state[0, :])\n",
    "print(\"final state\", state[-1, :])\n",
    "\n",
    "tau_days = np.empty((size1, 1))\n",
    "for t, i in zip(df_dromo[\"tau\"], range(size1)):\n",
    "    tau_days[i, 0] = ( t*math.sqrt((a0**3)/GMe) )/(24*3600)\n",
    "    \n",
    "print(\"last day: \", tau_days[-1, :]) \n",
    "\n",
    "# last day:  [287.82589286]"
   ]
  },
  {
   "cell_type": "code",
   "execution_count": 316,
   "id": "1b7190b4",
   "metadata": {},
   "outputs": [
    {
     "data": {
      "image/png": "[encoded data removed]",
      "text/plain": [
       "<Figure size 432x288 with 1 Axes>"
      ]
     },
     "metadata": {
      "needs_background": "light"
     },
     "output_type": "display_data"
    },
    {
     "data": {
      "image/png": "[encoded data removed]",
      "text/plain": [
       "<Figure size 432x288 with 1 Axes>"
      ]
     },
     "metadata": {
      "needs_background": "light"
     },
     "output_type": "display_data"
    }
   ],
   "source": [
    "plt.plot(tau_days[:, 0], r_norm[:, 0], 'r')\n",
    "plt.show()\n",
    "\n",
    "df_pos = pd.DataFrame(state, columns=[\"x\", \"y\", \"z\", \"xv\", \"yv\", \"zv\"])\n",
    "\n",
    "ax = plt.axes(projection='3d')\n",
    "ax.plot3D(df_pos[\"x\"], df_pos[\"y\"], df_pos[\"z\"], color = 'k', label = 'orbit')\n",
    "plt.show()\n"
   ]
  },
  {
   "cell_type": "code",
   "execution_count": null,
   "id": "63852a99",
   "metadata": {},
   "outputs": [],
   "source": []
  }
 ],
 "metadata": {
  "kernelspec": {
   "display_name": "Python 3 (ipykernel)",
   "language": "python",
   "name": "python3"
  },
  "language_info": {
   "codemirror_mode": {
    "name": "ipython",
    "version": 3
   },
   "file_extension": ".py",
   "mimetype": "text/x-python",
   "name": "python",
   "nbconvert_exporter": "python",
   "pygments_lexer": "ipython3",
   "version": "3.9.5"
  }
 },
 "nbformat": 4,
 "nbformat_minor": 5
}
