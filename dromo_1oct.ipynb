{
 "cells": [
  {
   "cell_type": "code",
   "execution_count": 1,
   "id": "c703a6f5",
   "metadata": {},
   "outputs": [],
   "source": [
    "# Core imports\n",
    "import heyoka as hk\n",
    "import pykep as pk\n",
    "import numpy as np\n",
    "from numpy import linalg as la\n",
    "import pandas as pd\n",
    "import math\n",
    "from numpy.lib.function_base import append\n",
    "from scipy.integrate import odeint\n",
    "# Sys imports\n",
    "import time\n",
    "# Plot imports\n",
    "from matplotlib import pyplot as plt\n",
    "from mpl_toolkits.mplot3d import Axes3D\n",
    "import matplotlib.ticker as mtick\n",
    "# Other imports\n",
    "from UROP_const import *\n",
    "from UROP_aux_func import *"
   ]
  },
  {
   "cell_type": "code",
   "execution_count": 14,
   "id": "344cd428",
   "metadata": {},
   "outputs": [],
   "source": [
    "# create heyoka variables\n",
    "sigma, tau, zeta1, zeta2, zeta3, eta1, eta2, eta3, eta4 = hk.make_vars(\"sigma\", \"tau\", \"zeta1\", \"zeta2\", \"zeta3\",\n",
    "                                                                \"eta1\", \"eta2\", \"eta3\", \"eta4\")\n",
    "\n",
    "#  ?"
   ]
  },
  {
   "cell_type": "code",
   "execution_count": 15,
   "id": "5eca7d0f",
   "metadata": {},
   "outputs": [],
   "source": [
    "# Step 1: Define Initial Conditions (dimensional)\n",
    "r0 = np.array([0.0, -5888.9727, -3400.0]) #km   (class 'numpy.ndarray')\n",
    "v0 = np.array([10.691338, 0.0, 0.0])      #km/s\n",
    "[a0, e0_norm, i0, RAAN0, omega0, theta0] = rv2elorb(r0, v0, GMe)"
   ]
  },
  {
   "cell_type": "code",
   "execution_count": 16,
   "id": "7b86d984",
   "metadata": {},
   "outputs": [],
   "source": [
    "# Step 2: non-dimensionalise \n",
    "r0nd = r0 / a0 #[km/km] = [-] since the orbit is highly elliptical normalise with the initial semimajor axis\n",
    "               # otherwise use r0nd = r0/la.norm(r0)\n",
    "v0nd = v0 * math.sqrt(a0/GMe)    #[-]\n",
    "t0   = 0                         #s\n",
    "t0nd = t0 / math.sqrt((a0**3)/GMe) #[-]\n",
    "\n",
    "# Non-dimensionalise the parameters\n",
    "GMend = 1 # GMe * a0d / (a0d * GMe) \n",
    "Rend  = Re / a0\n",
    "rlnd  = rl / a0\n",
    "omega_lnd = omega_l * math.sqrt((a0**3)/GMe)\n",
    "GMlnd = GMl / GMe"
   ]
  },
  {
   "cell_type": "code",
   "execution_count": 17,
   "id": "6a1f3b3e",
   "metadata": {},
   "outputs": [],
   "source": [
    "# Step 3: tranform the non-dimensional ICs (r0nd, v0nd) in DROMO elements \n",
    "h0 = np.cross(r0nd, v0nd)                      # 3-components vector\n",
    "e0 = - r0nd/la.norm(r0nd) - np.cross(h0, v0nd) # 3-components vector\n",
    "# sigma0 from page 7. and from page 14. (initial conditions)\n",
    "sigma0 = theta0 "
   ]
  },
  {
   "cell_type": "code",
   "execution_count": 18,
   "id": "c656b310",
   "metadata": {},
   "outputs": [],
   "source": [
    "# Initial state (sigma; tau, zeta1, zeta2, zeta3, eta1, eta2, eta3, eta4)\n",
    "tau_0   = t0nd\n",
    "zeta1_0 = la.norm(e0)\n",
    "zeta2_0 = 0\n",
    "zeta3_0 = 1/la.norm(h0)\n",
    "eta1_0  = math.sin(i0/2)*math.cos((RAAN0-omega0)/2)\n",
    "eta2_0  = math.sin(i0/2)*math.sin((RAAN0-omega0)/2)\n",
    "eta3_0  = math.cos(i0/2)*math.sin((RAAN0+omega0)/2)\n",
    "eta4_0  = math.cos(i0/2)*math.cos((RAAN0+omega0)/2)\n",
    "S0 = [tau_0, zeta1_0, zeta2_0, zeta3_0, eta1_0, eta2_0, eta3_0, eta4_0]"
   ]
  },
  {
   "cell_type": "code",
   "execution_count": 19,
   "id": "a40ba950",
   "metadata": {},
   "outputs": [],
   "source": [
    "# Valore finale di sigma\n",
    "sigma_fin = 60*2*np.pi    # rad\n",
    "fin_day =  288.1276894125 # days\n",
    "# numero di passi per orbita\n",
    "# m = 1000\n",
    "# N = math.floor((sigma_fin - sigma0)/(2*np.pi)) * m\n",
    "delta_sigma = 1   \n",
    "N = math.floor((sigma_fin-sigma0)/delta_sigma - 1)\n",
    "sigma_span = np.linspace(sigma0, sigma_fin, N)  "
   ]
  },
  {
   "cell_type": "code",
   "execution_count": 20,
   "id": "7ae549be",
   "metadata": {},
   "outputs": [],
   "source": [
    "# Auxiliary relationships\n",
    "s = 1 + zeta1 * hk.cos(hk.time) + zeta2 * hk.sin(hk.time)"
   ]
  },
  {
   "cell_type": "code",
   "execution_count": 21,
   "id": "6e5c723a",
   "metadata": {},
   "outputs": [],
   "source": [
    "# Keplerian motion\n",
    "apx = 0\n",
    "apy = 0\n",
    "apz = 0\n",
    "\n",
    "# J2\n",
    "\n",
    "# moon\n",
    "\n",
    "# How do you call the function dromo2rv at every time step ...\n",
    "\n",
    "\n",
    "\n",
    "# Perturbing accelerations\n",
    "a_px = apx/(zeta3**4 * s**3)\n",
    "a_py = apy/(zeta3**4 * s**3)\n",
    "a_pz = apz/(zeta3**4 * s**3)"
   ]
  },
  {
   "cell_type": "code",
   "execution_count": 22,
   "id": "28cdb6f4",
   "metadata": {},
   "outputs": [],
   "source": [
    "#EOMs\n",
    "\n",
    "# in heyoka is sigma equivalent to hk.time ?\n",
    "# dtaudsigma    = 1/((zeta3**3) * (s**2)) \n",
    "# dzeta1dsigma  = s * math.sin(sigma)   * a_px   + (zeta1 + (1+s)*math.cos(sigma)) * a_py \n",
    "# dzeta2dsigma  = - s * math.cos(sigma) * a_px   + (zeta2 + (1+s)*math.sin(sigma)) * a_py\n",
    "# dzeta3dsigma  = - zeta3 * a_pz\n",
    "# deta1dsigma   = 1/2 * a_pz * (eta4 * math.cos(sigma) - eta3 * math.sin(sigma))\n",
    "# deta2dsigma   = 1/2 * a_pz * (eta3 * math.cos(sigma) + eta4 * math.sin(sigma)),\n",
    "# deta3dsigma   = 1/2 * a_pz * (-eta2* math.cos(sigma) + eta1 * math.sin(sigma)),\n",
    "# deta4dsigma   = 1/2 * a_pz * (-eta1* math.cos(sigma) - eta2 * math.sin(sigma))\n",
    "                    \n",
    "# should it be sigma or hk.time as sigma is the independent variable ?\n",
    "dtaudsigma    = 1/((zeta3**3) * (s**2)) \n",
    "dzeta1dsigma  = s * hk.sin(sigma)   * a_px   + (zeta1 + (1+s)*hk.cos(sigma)) * a_py \n",
    "dzeta2dsigma  = - s * hk.cos(sigma) * a_px   + (zeta2 + (1+s)*hk.sin(sigma)) * a_py\n",
    "dzeta3dsigma  = - zeta3 * a_pz\n",
    "deta1dsigma   = 1/2 * a_pz * (eta4 * hk.cos(sigma) - eta3 * hk.sin(sigma))\n",
    "deta2dsigma   = 1/2 * a_pz * (eta3 * hk.cos(sigma) + eta4 * hk.sin(sigma)),\n",
    "deta3dsigma   = 1/2 * a_pz * (-eta2* hk.cos(sigma) + eta1 * hk.sin(sigma)),\n",
    "deta4dsigma   = 1/2 * a_pz * (-eta1* hk.cos(sigma) - eta2 * hk.sin(sigma))\n",
    "                    "
   ]
  },
  {
   "cell_type": "code",
   "execution_count": 13,
   "id": "d60c0802",
   "metadata": {},
   "outputs": [
    {
     "name": "stdout",
     "output_type": "stream",
     "text": [
      "Compiling the Taylor integrator ... (this is done only once)\n"
     ]
    },
    {
     "ename": "TypeError",
     "evalue": "__init__(): incompatible constructor arguments. The following argument types are supported:\n    1. heyoka.core._taylor_adaptive_dbl(sys: List[Tuple[heyoka.core.expression, heyoka.core.expression]], state: List[float], time: float = 0.0, pars: List[float] = [], tol: float = 0.0, high_accuracy: bool = False, compact_mode: bool = False, t_events: List[heyoka::detail::t_event_impl<double>] = [], nt_events: List[heyoka::detail::nt_event_impl<double>] = [])\n    2. heyoka.core._taylor_adaptive_dbl(sys: List[heyoka.core.expression], state: List[float], time: float = 0.0, pars: List[float] = [], tol: float = 0.0, high_accuracy: bool = False, compact_mode: bool = False, t_events: List[heyoka::detail::t_event_impl<double>] = [], nt_events: List[heyoka::detail::nt_event_impl<double>] = [])\n\nInvoked with: [(tau, (1.0000000000000000 / ((square(zeta3) * zeta3) * square(((1.0000000000000000 + (zeta1 * cos(t))) + (zeta2 * sin(t))))))), (zeta1, 0.0000000000000000), (zeta2, 0.0000000000000000), (zeta3, 0.0000000000000000), (eta1, 0.0000000000000000), (eta2, (0.0000000000000000,)), (eta3, (0.0000000000000000,)), (eta4, 0.0000000000000000)], [0.0, 0.9500001541350794, 0, 3.2025678858150046, -0.18301270304063946, -0.18301270304063952, 0.6830127015845011, -0.683012701584501]; kwargs: time=0.0, tol=1e-13, compact_mode=True",
     "output_type": "error",
     "traceback": [
      "\u001b[0;31m---------------------------------------------------------------------------\u001b[0m",
      "\u001b[0;31mTypeError\u001b[0m                                 Traceback (most recent call last)",
      "\u001b[0;32m/var/folders/lz/6_h3ytrn3mg06_4hwwfrzhrm0000gn/T/ipykernel_65849/2750095370.py\u001b[0m in \u001b[0;36m<module>\u001b[0;34m\u001b[0m\n\u001b[1;32m      2\u001b[0m \u001b[0mstart_time\u001b[0m \u001b[0;34m=\u001b[0m \u001b[0mtime\u001b[0m\u001b[0;34m.\u001b[0m\u001b[0mtime\u001b[0m\u001b[0;34m(\u001b[0m\u001b[0;34m)\u001b[0m\u001b[0;34m\u001b[0m\u001b[0;34m\u001b[0m\u001b[0m\n\u001b[1;32m      3\u001b[0m \u001b[0;34m\u001b[0m\u001b[0m\n\u001b[0;32m----> 4\u001b[0;31m ta = hk.taylor_adaptive(sys = [(tau,dtaudsigma),(zeta1,dzeta1dsigma),\n\u001b[0m\u001b[1;32m      5\u001b[0m                                \u001b[0;34m(\u001b[0m\u001b[0mzeta2\u001b[0m\u001b[0;34m,\u001b[0m\u001b[0mdzeta2dsigma\u001b[0m\u001b[0;34m)\u001b[0m\u001b[0;34m,\u001b[0m\u001b[0;34m(\u001b[0m\u001b[0mzeta3\u001b[0m\u001b[0;34m,\u001b[0m\u001b[0mdzeta3dsigma\u001b[0m\u001b[0;34m)\u001b[0m\u001b[0;34m,\u001b[0m\u001b[0;34m\u001b[0m\u001b[0;34m\u001b[0m\u001b[0m\n\u001b[1;32m      6\u001b[0m                                \u001b[0;34m(\u001b[0m\u001b[0meta1\u001b[0m\u001b[0;34m,\u001b[0m\u001b[0mdeta1dsigma\u001b[0m\u001b[0;34m)\u001b[0m\u001b[0;34m,\u001b[0m\u001b[0;34m(\u001b[0m\u001b[0meta2\u001b[0m\u001b[0;34m,\u001b[0m\u001b[0mdeta2dsigma\u001b[0m\u001b[0;34m)\u001b[0m\u001b[0;34m,\u001b[0m\u001b[0;34m\u001b[0m\u001b[0;34m\u001b[0m\u001b[0m\n",
      "\u001b[0;32m/opt/anaconda3/envs/tribalspace/lib/python3.9/site-packages/heyoka/__init__.py\u001b[0m in \u001b[0;36mtaylor_adaptive\u001b[0;34m(sys, state, **kwargs)\u001b[0m\n\u001b[1;32m     55\u001b[0m \u001b[0;34m\u001b[0m\u001b[0m\n\u001b[1;32m     56\u001b[0m     \u001b[0;32mif\u001b[0m \u001b[0mfp_type\u001b[0m \u001b[0;34m==\u001b[0m \u001b[0;34m\"double\"\u001b[0m\u001b[0;34m:\u001b[0m\u001b[0;34m\u001b[0m\u001b[0;34m\u001b[0m\u001b[0m\n\u001b[0;32m---> 57\u001b[0;31m         \u001b[0;32mreturn\u001b[0m \u001b[0m_taylor_adaptive_dbl\u001b[0m\u001b[0;34m(\u001b[0m\u001b[0msys\u001b[0m\u001b[0;34m,\u001b[0m \u001b[0mstate\u001b[0m\u001b[0;34m,\u001b[0m \u001b[0;34m**\u001b[0m\u001b[0mkwargs\u001b[0m\u001b[0;34m)\u001b[0m\u001b[0;34m\u001b[0m\u001b[0;34m\u001b[0m\u001b[0m\n\u001b[0m\u001b[1;32m     58\u001b[0m \u001b[0;34m\u001b[0m\u001b[0m\n\u001b[1;32m     59\u001b[0m     \u001b[0;32mif\u001b[0m \u001b[0mfp_type\u001b[0m \u001b[0;34m==\u001b[0m \u001b[0;34m\"long double\"\u001b[0m\u001b[0;34m:\u001b[0m\u001b[0;34m\u001b[0m\u001b[0;34m\u001b[0m\u001b[0m\n",
      "\u001b[0;31mTypeError\u001b[0m: __init__(): incompatible constructor arguments. The following argument types are supported:\n    1. heyoka.core._taylor_adaptive_dbl(sys: List[Tuple[heyoka.core.expression, heyoka.core.expression]], state: List[float], time: float = 0.0, pars: List[float] = [], tol: float = 0.0, high_accuracy: bool = False, compact_mode: bool = False, t_events: List[heyoka::detail::t_event_impl<double>] = [], nt_events: List[heyoka::detail::nt_event_impl<double>] = [])\n    2. heyoka.core._taylor_adaptive_dbl(sys: List[heyoka.core.expression], state: List[float], time: float = 0.0, pars: List[float] = [], tol: float = 0.0, high_accuracy: bool = False, compact_mode: bool = False, t_events: List[heyoka::detail::t_event_impl<double>] = [], nt_events: List[heyoka::detail::nt_event_impl<double>] = [])\n\nInvoked with: [(tau, (1.0000000000000000 / ((square(zeta3) * zeta3) * square(((1.0000000000000000 + (zeta1 * cos(t))) + (zeta2 * sin(t))))))), (zeta1, 0.0000000000000000), (zeta2, 0.0000000000000000), (zeta3, 0.0000000000000000), (eta1, 0.0000000000000000), (eta2, (0.0000000000000000,)), (eta3, (0.0000000000000000,)), (eta4, 0.0000000000000000)], [0.0, 0.9500001541350794, 0, 3.2025678858150046, -0.18301270304063946, -0.18301270304063952, 0.6830127015845011, -0.683012701584501]; kwargs: time=0.0, tol=1e-13, compact_mode=True"
     ]
    }
   ],
   "source": [
    "print('Compiling the Taylor integrator ... (this is done only once)')\n",
    "start_time = time.time()\n",
    "\n",
    "ta = hk.taylor_adaptive(sys = [(tau,dtaudsigma),(zeta1,dzeta1dsigma),\n",
    "                               (zeta2,dzeta2dsigma),(zeta3,dzeta3dsigma),\n",
    "                               (eta1,deta1dsigma),(eta2,deta2dsigma),\n",
    "                               (eta3,deta3dsigma),(eta4,deta4dsigma)],\n",
    "                                state = S0,\n",
    "                                time = sigma0,\n",
    "                                tol = 1e-13,\n",
    "                                compact_mode = True)\n",
    "end_time = time.time()\n",
    "\n",
    "print('Done, in');\n",
    "print(\"--- %s seconds ---\" % (end_time - start_time))\n",
    "\n",
    "print(\"\\nHeyoka Taylor integrator:\\n\", ta)\n",
    "\n",
    "# Can you give me any insight as to what the error means?"
   ]
  },
  {
   "cell_type": "code",
   "execution_count": null,
   "id": "aeea9fc3",
   "metadata": {},
   "outputs": [],
   "source": [
    "# Here we redefine the initial conditions since we may want to change them without recompiling the integrator\n",
    "ta.time = t0\n",
    "# Note the python syntax to assign directly the array elements. Here necessary\n",
    "# as heyoka does not allow to change the memory location of the state\n",
    "ta.state[:] =  S0"
   ]
  },
  {
   "cell_type": "code",
   "execution_count": null,
   "id": "bd835ffc",
   "metadata": {},
   "outputs": [],
   "source": [
    "start_time = time.time()\n",
    "out = ta.propagate_grid(sigma_span)\n",
    "end_time = time.time()\n",
    "\n",
    "print('Done, in');\n",
    "print(\"--- %s seconds ---\" % (end_time - start_time))\n",
    "St = out[4] \n",
    "size = np.shape(St)\n",
    "print(f'the shape of the solution (cartesian form) is {size}')"
   ]
  }
 ],
 "metadata": {
  "kernelspec": {
   "display_name": "Python 3 (ipykernel)",
   "language": "python",
   "name": "python3"
  },
  "language_info": {
   "codemirror_mode": {
    "name": "ipython",
    "version": 3
   },
   "file_extension": ".py",
   "mimetype": "text/x-python",
   "name": "python",
   "nbconvert_exporter": "python",
   "pygments_lexer": "ipython3",
   "version": "3.9.5"
  }
 },
 "nbformat": 4,
 "nbformat_minor": 5
}
