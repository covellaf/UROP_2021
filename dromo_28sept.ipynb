{
 "cells": [
  {
   "cell_type": "code",
   "execution_count": 1,
   "id": "c703a6f5",
   "metadata": {},
   "outputs": [],
   "source": [
    "# Core imports\n",
    "import heyoka as hk\n",
    "import pykep as pk\n",
    "import numpy as np\n",
    "from numpy import linalg as la\n",
    "import pandas as pd\n",
    "import math\n",
    "from numpy.lib.function_base import append\n",
    "from scipy.integrate import odeint\n",
    "# Sys imports\n",
    "import time\n",
    "# Plot imports\n",
    "from matplotlib import pyplot as plt\n",
    "from mpl_toolkits.mplot3d import Axes3D\n",
    "import matplotlib.ticker as mtick\n",
    "# Other imports\n",
    "from UROP_const import *\n",
    "from UROP_aux_func import *"
   ]
  },
  {
   "cell_type": "code",
   "execution_count": 8,
   "id": "344cd428",
   "metadata": {},
   "outputs": [],
   "source": [
    "# create heyoka variables\n",
    "tau, zeta1, zeta2, zeta3, eta1, eta2, eta3, eta4 = hk.make_vars( \"tau\", \"zeta1\", \"zeta2\", \"zeta3\",\n",
    "                                                                \"eta1\", \"eta2\", \"eta3\", \"eta4\")\n",
    "\n",
    "# \"sigma\" ?"
   ]
  },
  {
   "cell_type": "code",
   "execution_count": 2,
   "id": "5eca7d0f",
   "metadata": {},
   "outputs": [],
   "source": [
    "# Step 1: Define Initial Conditions (dimensional)\n",
    "r0 = np.array([0.0, -5888.9727, -3400.0]) #km   (class 'numpy.ndarray')\n",
    "v0 = np.array([10.691338, 0.0, 0.0])      #km/s\n",
    "[a0, e0_norm, i0, RAAN0, omega0, theta0] = rv2elorb(r0, v0, GMe)"
   ]
  },
  {
   "cell_type": "code",
   "execution_count": 5,
   "id": "7b86d984",
   "metadata": {},
   "outputs": [],
   "source": [
    "# Step 2: non-dimensionalise \n",
    "r0nd = r0 / a0 #[km/km] = [-] since the orbit is highly elliptical normalise with the initial semimajor axis\n",
    "               # otherwise use r0nd = r0/la.norm(r0)\n",
    "v0nd = v0 * math.sqrt(a0/GMe)    #[-]\n",
    "t0   = 0                         #s\n",
    "t0nd = t0 / math.sqrt((a0**3)/GMe) #[-]\n",
    "\n",
    "# Non-dimensionalise the parameters\n",
    "GMend = 1 # GMe * a0d / (a0d * GMe) \n",
    "Rend  = Re / a0\n",
    "rlnd  = rl / (6*Re)\n",
    "omega_lnd = omega_l * math.sqrt((a0**3)/GMe)\n",
    "GMlnd = GMl / GMe"
   ]
  },
  {
   "cell_type": "code",
   "execution_count": 6,
   "id": "6a1f3b3e",
   "metadata": {},
   "outputs": [],
   "source": [
    "# Step 3: tranform the non-dimensional ICs (r0nd, v0nd) in DROMO elements \n",
    "h0 = np.cross(r0nd, v0nd)                      # 3-components vector\n",
    "e0 = - r0nd/la.norm(r0nd) - np.cross(h0, v0nd) # 3-components vector\n",
    "# sigma0 from page 7. and from page 14. (initial conditions)\n",
    "sigma0 = theta0 "
   ]
  },
  {
   "cell_type": "code",
   "execution_count": 9,
   "id": "c656b310",
   "metadata": {},
   "outputs": [],
   "source": [
    "# Initial state (sigma; tau, zeta1, zeta2, zeta3, eta1, eta2, eta3, eta4)\n",
    "tau_0   = t0nd\n",
    "zeta1_0 = la.norm(e0)\n",
    "zeta2_0 = 0\n",
    "zeta3_0 = 1/la.norm(h0)\n",
    "eta1_0  = math.sin(i0/2)*math.cos((RAAN0-omega0)/2)\n",
    "eta2_0  = math.sin(i0/2)*math.sin((RAAN0-omega0)/2)\n",
    "eta3_0  = math.cos(i0/2)*math.sin((RAAN0+omega0)/2)\n",
    "eta4_0  = math.cos(i0/2)*math.cos((RAAN0+omega0)/2)\n",
    "S0 = [tau_0, zeta1_0, zeta2_0, zeta3_0, eta1_0, eta2_0, eta3_0, eta4_0]"
   ]
  },
  {
   "cell_type": "code",
   "execution_count": 10,
   "id": "a40ba950",
   "metadata": {},
   "outputs": [
    {
     "name": "stdout",
     "output_type": "stream",
     "text": [
      "N:  50000\n"
     ]
    }
   ],
   "source": [
    "# Valore finale di sigma\n",
    "sigma_fin = 50*2*np.pi\n",
    "# numero di passi per orbita\n",
    "m = 1000\n",
    "N = math.floor((sigma_fin - sigma0)/(2*np.pi)) * m\n",
    "print(\"N: \", N)"
   ]
  },
  {
   "cell_type": "code",
   "execution_count": 11,
   "id": "174ae955",
   "metadata": {},
   "outputs": [],
   "source": [
    "t_span = np.linspace(0, sigma_fin, N) "
   ]
  },
  {
   "cell_type": "code",
   "execution_count": 12,
   "id": "7ae549be",
   "metadata": {},
   "outputs": [],
   "source": [
    "# Auxiliary relationships\n",
    "s = 1 + zeta1 * hk.cos(hk.time) + zeta2 * hk.sin(hk.time)"
   ]
  },
  {
   "cell_type": "code",
   "execution_count": null,
   "id": "6e5c723a",
   "metadata": {},
   "outputs": [],
   "source": [
    "# Keplerian motion\n",
    "apx = 0\n",
    "apy = 0\n",
    "apz = 0\n",
    "\n",
    "# J2\n",
    "\n",
    "# moon\n",
    "\n",
    "# How do you call the function dromo2rv at every time step ...\n",
    "\n",
    "\n",
    "\n",
    "# Perturbing accelerations\n",
    "a_px = apx/(zeta3**4 * s**3)\n",
    "a_py = apy/(zeta3**4 * s**3)\n",
    "a_pz = apz/(zeta3**4 * s**3)"
   ]
  },
  {
   "cell_type": "code",
   "execution_count": null,
   "id": "28cdb6f4",
   "metadata": {},
   "outputs": [],
   "source": [
    "#EOMs\n",
    "\n",
    "# in heyoka is sigma equivalent to hk.time ?\n",
    "\n",
    "dtaudsigma    = 1/((zeta3**3) * (s**2)) \n",
    "dzeta1dsigma  = s * math.sin(sigma)   * a_px   + (zeta1 + (1+s)*math.cos(sigma)) * a_py \n",
    "dzeta2dsigma  = - s * math.cos(sigma) * a_px   + (zeta2 + (1+s)*math.sin(sigma)) * a_py\n",
    "dzeta3dsigma  = - zeta3 * a_pz\n",
    "deta1dsigma   = 1/2 * a_pz * (eta4 * math.cos(sigma) - eta3 * math.sin(sigma))\n",
    "deta2dsigma   = 1/2 * a_pz * (eta3 * math.cos(sigma) + eta4 * math.sin(sigma)),\n",
    "deta3dsigma   = 1/2 * a_pz * (-eta2* math.cos(sigma) + eta1 * math.sin(sigma)),\n",
    "deta4dsigma   = 1/2 * a_pz * (-eta1* math.cos(sigma) - eta2 * math.sin(sigma))\n",
    "                    "
   ]
  },
  {
   "cell_type": "code",
   "execution_count": null,
   "id": "d60c0802",
   "metadata": {},
   "outputs": [],
   "source": [
    "print('Compiling the Taylor integrator ... (this is done only once)')\n",
    "start_time = time.time()\n",
    "\n",
    "ta = hk.taylor_adaptive(sys = [(tau,dtaudsigma),(zeta1,dzeta1dsigma),\n",
    "                               (zeta2,dzeta2dsigma),(zeta3,dzeta3dsigma),\n",
    "                               (eta1,deta1dsigma),(eta2,deta2dsigma),\n",
    "                               (eta3,deta3dsigma),(eta4,deta4dsigma)],\n",
    "                                state = S0,\n",
    "                                time = sigma_0,\n",
    "                                tol = 1e-9,\n",
    "                                compact_mode = True)\n",
    "end_time = time.time()\n",
    "\n",
    "print('Done, in');\n",
    "print(\"--- %s seconds ---\" % (end_time - start_time))\n",
    "\n",
    "print(\"\\nHeyoka Taylor integrator:\\n\", ta)"
   ]
  },
  {
   "cell_type": "code",
   "execution_count": null,
   "id": "bd835ffc",
   "metadata": {},
   "outputs": [],
   "source": []
  }
 ],
 "metadata": {
  "kernelspec": {
   "display_name": "Python 3 (ipykernel)",
   "language": "python",
   "name": "python3"
  },
  "language_info": {
   "codemirror_mode": {
    "name": "ipython",
    "version": 3
   },
   "file_extension": ".py",
   "mimetype": "text/x-python",
   "name": "python",
   "nbconvert_exporter": "python",
   "pygments_lexer": "ipython3",
   "version": "3.9.5"
  }
 },
 "nbformat": 4,
 "nbformat_minor": 5
}
